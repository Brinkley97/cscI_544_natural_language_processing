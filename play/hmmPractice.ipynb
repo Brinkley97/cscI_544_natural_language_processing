{
 "cells": [
  {
   "cell_type": "markdown",
   "id": "c4b79511-74ad-4904-93c8-8a43b985cab0",
   "metadata": {},
   "source": [
    "# HMM (Hidden Markov Model) Practice\n",
    "\n",
    "- Learn HMMs for [HW 3](https://github.com/Brinkley97/csci_544_natural_language_processing/tree/main/hw_3)\n",
    "- TUTORIAL: [Hidden Markov Model HMM Implemetation using Python](https://www.youtube.com/watch?v=mnGN9BUs0HI) by Rahamathulla K"
   ]
  },
  {
   "cell_type": "code",
   "execution_count": 1,
   "id": "2dded2e2-36c1-43df-93c9-47adcd1a4fc7",
   "metadata": {},
   "outputs": [],
   "source": [
    "import numpy as np\n",
    "from hmmlearn.hmm import MultinomialHMM"
   ]
  },
  {
   "cell_type": "code",
   "execution_count": 2,
   "id": "d5cae0ac-c570-4ee8-bc2d-e19fc2117bfc",
   "metadata": {},
   "outputs": [],
   "source": [
    "# 2 x 1\n",
    "initial_state_params = np.array([0.5, \n",
    "                                 0.5]\n",
    "                                 ) \n",
    "# 2 x 2\n",
    "transition_params = np.array([[0.7, 0.3], \n",
    "                              [0.3, 0.7]]\n",
    "                              ) \n",
    "# 2 x 2\n",
    "cov_matrix = np.array([[0.9, 0.1],\n",
    "                       [0.2, 0.8]]\n",
    "                       )\n",
    "\n",
    "observation_sequence = [[0, 0, 1, 0], # obs 1: # initial state = 0, transitions to 0, transitions to 1, transitions to 0.\n",
    "                        [0, 0, 0, 0], # obs 2: # initial state = 0, transitions to 0, transitions to 0, transitions to 0.\n",
    "                        [1, 1, 1, 0], # obs 3: # initial state = 1, transitions to 1, transitions to 1, transitions to 0. \n",
    "                        [0, 0, 1, 0], # obs 4: # initial state = 0, transitions to 0, transitions to 1, transitions to 0.\n",
    "                        ]"
   ]
  },
  {
   "cell_type": "code",
   "execution_count": 3,
   "id": "63a3dc60",
   "metadata": {},
   "outputs": [],
   "source": [
    "def learn_model(model_name: str,  initial_state_params: np.array, transition_params: np.array, observation_sequence: list):\n",
    "    \n",
    "    \n",
    "    num_states = len(initial_state_params)\n",
    "    hmm_model = model_name(n_components=num_states, startprob_prior=initial_state_params, transmat_prior=transition_params)\n",
    "\n",
    "    hmm_model.fit(observation_sequence)\n",
    "\n",
    "    summary = {\n",
    "        \"start_probabilities\": hmm_model.startprob_,\n",
    "        \"transition_matrix\": hmm_model.transmat_,\n",
    "        \"emission_probabilities\": hmm_model.emissionprob_\n",
    "    }\n",
    "\n",
    "    print(\"-------\\n\", model_name, \"summary\\n\", summary)\n",
    "    \n",
    "    return hmm_model"
   ]
  },
  {
   "cell_type": "code",
   "execution_count": 4,
   "id": "9d8160a6",
   "metadata": {},
   "outputs": [
    {
     "name": "stderr",
     "output_type": "stream",
     "text": [
      "MultinomialHMM has undergone major changes. The previous version was implementing a CategoricalHMM (a special case of MultinomialHMM). This new implementation follows the standard definition for a Multinomial distribution (e.g. as in https://en.wikipedia.org/wiki/Multinomial_distribution). See these issues for details:\n",
      "https://github.com/hmmlearn/hmmlearn/issues/335\n",
      "https://github.com/hmmlearn/hmmlearn/issues/340\n",
      "Model is not converging.  Current: -3.0807489492134077 is not greater than -2.89502573812399. Delta is -0.1857232110894178\n"
     ]
    },
    {
     "name": "stdout",
     "output_type": "stream",
     "text": [
      "-------\n",
      " <class 'hmmlearn.hmm.MultinomialHMM'> summary\n",
      " {'start_probabilities': array([1., 0.]), 'transition_matrix': array([[1., 0.],\n",
      "       [0., 1.]]), 'emission_probabilities': array([[0.17126854, 0.17126854, 0.65746292, 0.        ],\n",
      "       [0.24280659, 0.24280659, 0.51438683, 0.        ]])}\n"
     ]
    }
   ],
   "source": [
    "learned_model = learn_model(MultinomialHMM, initial_state_params, transition_params, observation_sequence)"
   ]
  },
  {
   "cell_type": "code",
   "execution_count": 5,
   "id": "46b8450f",
   "metadata": {},
   "outputs": [],
   "source": [
    "def get_prob(learned_model, sample_state_sequence: np.array):\n",
    "    \"\"\"Decode the sequence of states to probability of sequence and predicted sequence\"\"\"\n",
    "\n",
    "    prob_of_sequence, pred_sequence = learned_model.decode(sample_state_sequence)\n",
    "    return prob_of_sequence, pred_sequence "
   ]
  },
  {
   "cell_type": "code",
   "execution_count": 6,
   "id": "98f13358",
   "metadata": {},
   "outputs": [
    {
     "data": {
      "text/plain": [
       "(-0.4193669137816161, array([0]))"
      ]
     },
     "execution_count": 6,
     "metadata": {},
     "output_type": "execute_result"
    }
   ],
   "source": [
    "# 4 x 1 -> 1 x 4\n",
    "sample_state_sequence = np.array([0, 0, 1, 0]).reshape(1, 4)\n",
    "get_prob(learned_model, sample_state_sequence)"
   ]
  },
  {
   "cell_type": "code",
   "execution_count": null,
   "id": "10279d86",
   "metadata": {},
   "outputs": [],
   "source": []
  }
 ],
 "metadata": {
  "kernelspec": {
   "display_name": "Python 3 (ipykernel)",
   "language": "python",
   "name": "python3"
  },
  "language_info": {
   "codemirror_mode": {
    "name": "ipython",
    "version": 3
   },
   "file_extension": ".py",
   "mimetype": "text/x-python",
   "name": "python",
   "nbconvert_exporter": "python",
   "pygments_lexer": "ipython3",
   "version": "3.11.4"
  }
 },
 "nbformat": 4,
 "nbformat_minor": 5
}
