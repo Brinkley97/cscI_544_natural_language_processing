{
 "cells": [
  {
   "cell_type": "markdown",
   "id": "2b4887e8-f0b0-4564-a670-05da7878ba9a",
   "metadata": {},
   "source": [
    "# Natural Language Took Kit (NLTK)\n",
    "\n",
    "TUTORIAL: [Getting started with NLP using NLTK](https://becominghuman.ai/nlp-for-beginners-using-nltk-f58ec22005cd)"
   ]
  },
  {
   "cell_type": "code",
   "execution_count": 13,
   "id": "625350b7-0b68-4a65-bff1-3ddf065bcc54",
   "metadata": {},
   "outputs": [
    {
     "name": "stderr",
     "output_type": "stream",
     "text": [
      "[nltk_data] Downloading package wordnet to\n",
      "[nltk_data]     /Users/brinkley97/nltk_data...\n",
      "[nltk_data]   Package wordnet is already up-to-date!\n",
      "[nltk_data] Downloading package punkt to\n",
      "[nltk_data]     /Users/brinkley97/nltk_data...\n",
      "[nltk_data]   Package punkt is already up-to-date!\n",
      "[nltk_data] Downloading package stopwords to\n",
      "[nltk_data]     /Users/brinkley97/nltk_data...\n",
      "[nltk_data]   Unzipping corpora/stopwords.zip.\n"
     ]
    }
   ],
   "source": [
    "import nltk\n",
    "nltk.download('wordnet')\n",
    "nltk.download('punkt')\n",
    "nltk.download('stopwords')\n",
    "from nltk.corpus import stopwords"
   ]
  },
  {
   "cell_type": "code",
   "execution_count": 14,
   "id": "260722f5-1862-46a6-b3ba-2f63c5dd8633",
   "metadata": {},
   "outputs": [],
   "source": [
    "stopword = stopwords.words('english')"
   ]
  },
  {
   "cell_type": "code",
   "execution_count": 15,
   "id": "73d33521-af11-494a-a14b-6097ce42c3b6",
   "metadata": {},
   "outputs": [],
   "source": [
    "text = \"This is a Demo Text for NLP using NLTK. Full form of NLTK is Natural Language Toolkit\""
   ]
  },
  {
   "cell_type": "code",
   "execution_count": 16,
   "id": "7ba1bd33-90d3-4a1d-b2a5-100d21ca2f87",
   "metadata": {},
   "outputs": [
    {
     "name": "stdout",
     "output_type": "stream",
     "text": [
      "['This', 'Demo', 'Text', 'NLP', 'using', 'NLTK', '.', 'Full', 'form', 'NLTK', 'Natural', 'Language', 'Toolkit']\n"
     ]
    }
   ],
   "source": [
    "word_tokens = nltk.word_tokenize(text)\n",
    "removing_stopwords = [word for word in word_tokens if word not in stopword]\n",
    "print(removing_stopwords)"
   ]
  },
  {
   "cell_type": "code",
   "execution_count": 24,
   "id": "eebd78e0-c21b-442e-8475-14942ee5c5f1",
   "metadata": {},
   "outputs": [
    {
     "name": "stdout",
     "output_type": "stream",
     "text": [
      "NOT stop word: This\n",
      "\n",
      "Stopword is\n",
      "\n",
      "Stopword a\n",
      "\n",
      "NOT stop word: Demo\n",
      "\n",
      "NOT stop word: Text\n",
      "\n",
      "Stopword for\n",
      "\n",
      "NOT stop word: NLP\n",
      "\n",
      "NOT stop word: using\n",
      "\n",
      "NOT stop word: NLTK\n",
      "\n",
      "NOT stop word: .\n",
      "\n",
      "NOT stop word: Full\n",
      "\n",
      "NOT stop word: form\n",
      "\n",
      "Stopword of\n",
      "\n",
      "NOT stop word: NLTK\n",
      "\n",
      "Stopword is\n",
      "\n",
      "NOT stop word: Natural\n",
      "\n",
      "NOT stop word: Language\n",
      "\n",
      "NOT stop word: Toolkit\n",
      "\n"
     ]
    }
   ],
   "source": [
    "for word in word_tokens:\n",
    "    if word not in stopword:\n",
    "        print(\"NOT stopword:\", word)\n",
    "    else:\n",
    "        print(\"Stopword\", word)\n",
    "    print()"
   ]
  },
  {
   "cell_type": "code",
   "execution_count": null,
   "id": "8e6c4a01-8fcf-4412-95fc-585317222663",
   "metadata": {},
   "outputs": [],
   "source": []
  }
 ],
 "metadata": {
  "kernelspec": {
   "display_name": "Python 3 (ipykernel)",
   "language": "python",
   "name": "python3"
  },
  "language_info": {
   "codemirror_mode": {
    "name": "ipython",
    "version": 3
   },
   "file_extension": ".py",
   "mimetype": "text/x-python",
   "name": "python",
   "nbconvert_exporter": "python",
   "pygments_lexer": "ipython3",
   "version": "3.11.4"
  }
 },
 "nbformat": 4,
 "nbformat_minor": 5
}
