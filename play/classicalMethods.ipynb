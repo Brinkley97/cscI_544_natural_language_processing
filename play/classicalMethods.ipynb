{
 "cells": [
  {
   "cell_type": "markdown",
   "id": "e9373e2b-eb84-4046-b4cf-025e3aef0159",
   "metadata": {},
   "source": [
    "# Classical NLP Methods"
   ]
  },
  {
   "cell_type": "markdown",
   "id": "e5b56814-49dd-4a09-bb98-2a9592a31483",
   "metadata": {},
   "source": [
    "1. One-Hot Encoding\n",
    "2. Bag of Words\n",
    "3. TF-IDF (Term Frequency-Inverse Document Frequency)\n",
    "4. N-gram"
   ]
  },
  {
   "cell_type": "code",
   "execution_count": null,
   "id": "9894e2ef-f8ae-4459-9497-a7d3a78af6ca",
   "metadata": {},
   "outputs": [],
   "source": []
  }
 ],
 "metadata": {
  "kernelspec": {
   "display_name": "Python 3 (ipykernel)",
   "language": "python",
   "name": "python3"
  },
  "language_info": {
   "codemirror_mode": {
    "name": "ipython",
    "version": 3
   },
   "file_extension": ".py",
   "mimetype": "text/x-python",
   "name": "python",
   "nbconvert_exporter": "python",
   "pygments_lexer": "ipython3",
   "version": "3.11.4"
  }
 },
 "nbformat": 4,
 "nbformat_minor": 5
}
