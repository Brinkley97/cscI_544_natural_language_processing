{
 "cells": [
  {
   "cell_type": "markdown",
   "id": "83052518-4789-43fc-a1a6-fdede3555eb8",
   "metadata": {},
   "source": [
    "# Natural Language Took Kit (NLTK)\n",
    "\n",
    "TUTORIAL SERIES: [NLTK](https://youtu.be/FLZvOKSCkxY?si=1Zg1v4gH3qgx7B7H) by sentdex via YT"
   ]
  },
  {
   "cell_type": "code",
   "execution_count": 3,
   "id": "c207bf73-5e5f-4d79-9412-3105ab194994",
   "metadata": {},
   "outputs": [],
   "source": [
    "from nltk.corpus import stopwords\n",
    "from nltk.tokenize import word_tokenize"
   ]
  },
  {
   "cell_type": "markdown",
   "id": "f09ba2ce-b8fc-4734-9dfd-2e4d192d5608",
   "metadata": {},
   "source": [
    "1. Stop words [filler words, don't need]"
   ]
  },
  {
   "cell_type": "code",
   "execution_count": 15,
   "id": "95c6884f-3a64-4aca-ad20-b9e0703cc60d",
   "metadata": {},
   "outputs": [],
   "source": [
    "stop_words = set(stopwords.words(\"english\"))"
   ]
  },
  {
   "cell_type": "code",
   "execution_count": 18,
   "id": "e86dac27-e937-4704-9699-700bb547fc2b",
   "metadata": {},
   "outputs": [],
   "source": [
    "# Get specific stop word\n",
    "# list(stop_words)[1]"
   ]
  },
  {
   "cell_type": "code",
   "execution_count": 32,
   "id": "1af496d3-3b72-412c-bf7d-df30e2155e35",
   "metadata": {},
   "outputs": [],
   "source": [
    "ex_sentence = \"This is an ex showing off stop word filtration.\""
   ]
  },
  {
   "cell_type": "code",
   "execution_count": 34,
   "id": "1e267c5b-0838-4873-b914-f3e3e78dc7d8",
   "metadata": {},
   "outputs": [
    {
     "data": {
      "text/plain": [
       "['This', 'is', 'an', 'ex', 'showing', 'off', 'stop', 'word', 'filtration', '.']"
      ]
     },
     "execution_count": 34,
     "metadata": {},
     "output_type": "execute_result"
    }
   ],
   "source": [
    "# Tokenize to split sentence into words\n",
    "words = word_tokenize(ex_sentence)\n",
    "words"
   ]
  },
  {
   "cell_type": "code",
   "execution_count": 35,
   "id": "84fde5e2-f6f7-4ade-a99e-2f73c4f992f2",
   "metadata": {},
   "outputs": [],
   "source": [
    "filtered_sentence = []\n",
    "\n",
    "for words_idx in range(len(words)):\n",
    "    word = words[words_idx]\n",
    "\n",
    "    # print(word)\n",
    "    if word not in stop_words:\n",
    "        filtered_sentence.append(word)"
   ]
  },
  {
   "cell_type": "code",
   "execution_count": 36,
   "id": "7664d6ea-9f4b-4f4e-9670-77593a7186e7",
   "metadata": {},
   "outputs": [
    {
     "data": {
      "text/plain": [
       "['This', 'ex', 'showing', 'stop', 'word', 'filtration', '.']"
      ]
     },
     "execution_count": 36,
     "metadata": {},
     "output_type": "execute_result"
    }
   ],
   "source": [
    "filtered_sentence"
   ]
  },
  {
   "cell_type": "code",
   "execution_count": null,
   "id": "e3aef553-4d1d-49d4-99aa-4b12e351721e",
   "metadata": {},
   "outputs": [],
   "source": []
  }
 ],
 "metadata": {
  "kernelspec": {
   "display_name": "Python 3 (ipykernel)",
   "language": "python",
   "name": "python3"
  },
  "language_info": {
   "codemirror_mode": {
    "name": "ipython",
    "version": 3
   },
   "file_extension": ".py",
   "mimetype": "text/x-python",
   "name": "python",
   "nbconvert_exporter": "python",
   "pygments_lexer": "ipython3",
   "version": "3.11.4"
  }
 },
 "nbformat": 4,
 "nbformat_minor": 5
}
