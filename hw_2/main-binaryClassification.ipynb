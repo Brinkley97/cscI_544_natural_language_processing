{
 "cells": [
  {
   "cell_type": "markdown",
   "metadata": {},
   "source": [
    "# HW2- Binary Classification \n",
    "- Detravious Jamari Brinkley\n",
    "- CSCI-544: Applied Natural Language Processing\n",
    "- python version: 3.11.4"
   ]
  },
  {
   "cell_type": "code",
   "execution_count": 285,
   "metadata": {},
   "outputs": [
    {
     "name": "stderr",
     "output_type": "stream",
     "text": [
      "[nltk_data] Downloading package wordnet to\n",
      "[nltk_data]     /Users/brinkley97/nltk_data...\n",
      "[nltk_data]   Package wordnet is already up-to-date!\n"
     ]
    }
   ],
   "source": [
    "import pandas as pd\n",
    "import numpy as np\n",
    "import nltk\n",
    "nltk.download('wordnet')\n",
    "import re\n",
    "from bs4 import BeautifulSoup\n",
    "\n",
    "from sklearn.feature_extraction.text import TfidfVectorizer\n",
    "\n",
    "from nltk.corpus import stopwords\n",
    "from nltk.tokenize import word_tokenize\n",
    "\n",
    "from nltk.stem import WordNetLemmatizer\n",
    "\n",
    "from sklearn.model_selection import train_test_split\n",
    "\n",
    "import sklearn\n",
    "from sklearn.linear_model import Perceptron, LogisticRegression\n",
    "from sklearn.svm import LinearSVC\n",
    "from sklearn.naive_bayes import MultinomialNB"
   ]
  },
  {
   "cell_type": "markdown",
   "metadata": {},
   "source": [
    "## Read Data"
   ]
  },
  {
   "cell_type": "code",
   "execution_count": 286,
   "metadata": {},
   "outputs": [],
   "source": [
    "dataset = \"../datasets/amazon_reviews_us_Office_Products_v1_00.tsv\"\n",
    "amazon_reviews_copy_df = pd.read_csv(dataset, sep='\\t', on_bad_lines='skip', low_memory=False)"
   ]
  },
  {
   "cell_type": "markdown",
   "metadata": {},
   "source": [
    "## Keep Reviews and Ratings"
   ]
  },
  {
   "cell_type": "code",
   "execution_count": 287,
   "metadata": {},
   "outputs": [
    {
     "data": {
      "text/html": [
       "<div>\n",
       "<style scoped>\n",
       "    .dataframe tbody tr th:only-of-type {\n",
       "        vertical-align: middle;\n",
       "    }\n",
       "\n",
       "    .dataframe tbody tr th {\n",
       "        vertical-align: top;\n",
       "    }\n",
       "\n",
       "    .dataframe thead th {\n",
       "        text-align: right;\n",
       "    }\n",
       "</style>\n",
       "<table border=\"1\" class=\"dataframe\">\n",
       "  <thead>\n",
       "    <tr style=\"text-align: right;\">\n",
       "      <th></th>\n",
       "      <th>star_rating</th>\n",
       "      <th>review_body</th>\n",
       "    </tr>\n",
       "  </thead>\n",
       "  <tbody>\n",
       "    <tr>\n",
       "      <th>0</th>\n",
       "      <td>5</td>\n",
       "      <td>Great product.</td>\n",
       "    </tr>\n",
       "    <tr>\n",
       "      <th>1</th>\n",
       "      <td>5</td>\n",
       "      <td>What's to say about this commodity item except...</td>\n",
       "    </tr>\n",
       "    <tr>\n",
       "      <th>2</th>\n",
       "      <td>5</td>\n",
       "      <td>Haven't used yet, but I am sure I will like it.</td>\n",
       "    </tr>\n",
       "    <tr>\n",
       "      <th>3</th>\n",
       "      <td>1</td>\n",
       "      <td>Although this was labeled as &amp;#34;new&amp;#34; the...</td>\n",
       "    </tr>\n",
       "    <tr>\n",
       "      <th>4</th>\n",
       "      <td>4</td>\n",
       "      <td>Gorgeous colors and easy to use</td>\n",
       "    </tr>\n",
       "    <tr>\n",
       "      <th>...</th>\n",
       "      <td>...</td>\n",
       "      <td>...</td>\n",
       "    </tr>\n",
       "    <tr>\n",
       "      <th>2640249</th>\n",
       "      <td>4</td>\n",
       "      <td>I can't live anymore whithout my Palm III. But...</td>\n",
       "    </tr>\n",
       "    <tr>\n",
       "      <th>2640250</th>\n",
       "      <td>4</td>\n",
       "      <td>Although the Palm Pilot is thin and compact it...</td>\n",
       "    </tr>\n",
       "    <tr>\n",
       "      <th>2640251</th>\n",
       "      <td>4</td>\n",
       "      <td>This book had a lot of great content without b...</td>\n",
       "    </tr>\n",
       "    <tr>\n",
       "      <th>2640252</th>\n",
       "      <td>5</td>\n",
       "      <td>I am teaching a course in Excel and am using t...</td>\n",
       "    </tr>\n",
       "    <tr>\n",
       "      <th>2640253</th>\n",
       "      <td>5</td>\n",
       "      <td>A very comprehensive layout of exactly how Vis...</td>\n",
       "    </tr>\n",
       "  </tbody>\n",
       "</table>\n",
       "<p>2640254 rows × 2 columns</p>\n",
       "</div>"
      ],
      "text/plain": [
       "        star_rating                                        review_body\n",
       "0                 5                                     Great product.\n",
       "1                 5  What's to say about this commodity item except...\n",
       "2                 5    Haven't used yet, but I am sure I will like it.\n",
       "3                 1  Although this was labeled as &#34;new&#34; the...\n",
       "4                 4                    Gorgeous colors and easy to use\n",
       "...             ...                                                ...\n",
       "2640249           4  I can't live anymore whithout my Palm III. But...\n",
       "2640250           4  Although the Palm Pilot is thin and compact it...\n",
       "2640251           4  This book had a lot of great content without b...\n",
       "2640252           5  I am teaching a course in Excel and am using t...\n",
       "2640253           5  A very comprehensive layout of exactly how Vis...\n",
       "\n",
       "[2640254 rows x 2 columns]"
      ]
     },
     "execution_count": 287,
     "metadata": {},
     "output_type": "execute_result"
    }
   ],
   "source": [
    "reviews_ratings_df = amazon_reviews_copy_df.loc[0:, ['star_rating', 'review_body']]\n",
    "reviews_ratings_df.reset_index(drop=True)"
   ]
  },
  {
   "cell_type": "code",
   "execution_count": 288,
   "metadata": {},
   "outputs": [],
   "source": [
    "def generate_sample_reviews(df: pd.DataFrame, review_col_name: str, number_of_reviews: int = 3):\n",
    "    \"\"\"Include reviews and ratings\n",
    "\n",
    "    Parameters\n",
    "    ----------\n",
    "    df: `pd.DataFrame`\n",
    "        The data\n",
    "    \n",
    "    review_col_name: `str`\n",
    "        The specific_column to get the reviews and ratings of\n",
    "    \n",
    "    number_of_reviews: `int`\n",
    "        Number of samples to include\n",
    "\n",
    "\n",
    "    Return\n",
    "    ------\n",
    "    Nothing; instead, print the reviews with ratings\n",
    "    \"\"\"\n",
    "\n",
    "\n",
    "    columns_to_include = [review_col_name, 'star_rating']\n",
    "\n",
    "    # Initialize an empty list to store dictionaries\n",
    "    list_of_dicts = []\n",
    "\n",
    "    # Iterate over the specified columns and retrieve the first three rows\n",
    "    for row in df[columns_to_include].head(3).to_dict(orient='records'):\n",
    "        list_of_dicts.append({'star_rating': row['star_rating'], review_col_name: row[review_col_name]})\n",
    "\n",
    "    for dictionary in list_of_dicts:\n",
    "        print(dictionary)"
   ]
  },
  {
   "cell_type": "markdown",
   "metadata": {},
   "source": [
    " ## Select 100000 reviews randomly from positive and negative classes\n"
   ]
  },
  {
   "cell_type": "code",
   "execution_count": 289,
   "metadata": {},
   "outputs": [],
   "source": [
    "def update_data_type(df: pd.DataFrame, col_name: str):\n",
    "    \"\"\"Update the data type of the star ratings\n",
    "\n",
    "    Parameters\n",
    "    ----------\n",
    "    df: `pd.DataFrame`\n",
    "        The data\n",
    "    \n",
    "    col_name: `str`\n",
    "        Column with rating values\n",
    "\n",
    "    Return\n",
    "    ------\n",
    "    df: `pd.DataFrame`\n",
    "        An updated DataFrame with the new sentiment appened\n",
    "\n",
    "    \"\"\"\n",
    "\n",
    "    valid_ratings = ['1','2','3','4','5']\n",
    "    star_rating_series = df[col_name].copy()\n",
    "\n",
    "    # Convert type to strings\n",
    "    star_rating_series.astype('str')\n",
    "\n",
    "    # Check valid list and see which of our stars match\n",
    "    rows = star_rating_series.index\n",
    "    is_rating_in_valid_ratings = rows[star_rating_series.isin(valid_ratings)]\n",
    "\n",
    "    # Convert to list\n",
    "    is_rating_in_valid_ratings = is_rating_in_valid_ratings.to_list()\n",
    "\n",
    "    updated_df = df.iloc[is_rating_in_valid_ratings]\n",
    "    updated_df[col_name] = updated_df[col_name].astype(int)\n",
    "    return updated_df"
   ]
  },
  {
   "cell_type": "code",
   "execution_count": 290,
   "metadata": {},
   "outputs": [
    {
     "name": "stderr",
     "output_type": "stream",
     "text": [
      "/var/folders/fz/zn5r8vq12nv5p23dtlr15sk40000gn/T/ipykernel_10788/2907883124.py:33: SettingWithCopyWarning: \n",
      "A value is trying to be set on a copy of a slice from a DataFrame.\n",
      "Try using .loc[row_indexer,col_indexer] = value instead\n",
      "\n",
      "See the caveats in the documentation: https://pandas.pydata.org/pandas-docs/stable/user_guide/indexing.html#returning-a-view-versus-a-copy\n",
      "  updated_df[col_name] = updated_df[col_name].astype(int)\n"
     ]
    }
   ],
   "source": [
    "updated_reviews_ratings_df = update_data_type(reviews_ratings_df, 'star_rating')"
   ]
  },
  {
   "cell_type": "code",
   "execution_count": 291,
   "metadata": {},
   "outputs": [
    {
     "data": {
      "text/html": [
       "<div>\n",
       "<style scoped>\n",
       "    .dataframe tbody tr th:only-of-type {\n",
       "        vertical-align: middle;\n",
       "    }\n",
       "\n",
       "    .dataframe tbody tr th {\n",
       "        vertical-align: top;\n",
       "    }\n",
       "\n",
       "    .dataframe thead th {\n",
       "        text-align: right;\n",
       "    }\n",
       "</style>\n",
       "<table border=\"1\" class=\"dataframe\">\n",
       "  <thead>\n",
       "    <tr style=\"text-align: right;\">\n",
       "      <th></th>\n",
       "      <th>star_rating</th>\n",
       "      <th>review_body</th>\n",
       "    </tr>\n",
       "  </thead>\n",
       "  <tbody>\n",
       "    <tr>\n",
       "      <th>0</th>\n",
       "      <td>5</td>\n",
       "      <td>Great product.</td>\n",
       "    </tr>\n",
       "    <tr>\n",
       "      <th>1</th>\n",
       "      <td>5</td>\n",
       "      <td>What's to say about this commodity item except...</td>\n",
       "    </tr>\n",
       "    <tr>\n",
       "      <th>2</th>\n",
       "      <td>5</td>\n",
       "      <td>Haven't used yet, but I am sure I will like it.</td>\n",
       "    </tr>\n",
       "    <tr>\n",
       "      <th>3</th>\n",
       "      <td>1</td>\n",
       "      <td>Although this was labeled as &amp;#34;new&amp;#34; the...</td>\n",
       "    </tr>\n",
       "    <tr>\n",
       "      <th>4</th>\n",
       "      <td>4</td>\n",
       "      <td>Gorgeous colors and easy to use</td>\n",
       "    </tr>\n",
       "    <tr>\n",
       "      <th>...</th>\n",
       "      <td>...</td>\n",
       "      <td>...</td>\n",
       "    </tr>\n",
       "    <tr>\n",
       "      <th>2640249</th>\n",
       "      <td>4</td>\n",
       "      <td>I can't live anymore whithout my Palm III. But...</td>\n",
       "    </tr>\n",
       "    <tr>\n",
       "      <th>2640250</th>\n",
       "      <td>4</td>\n",
       "      <td>Although the Palm Pilot is thin and compact it...</td>\n",
       "    </tr>\n",
       "    <tr>\n",
       "      <th>2640251</th>\n",
       "      <td>4</td>\n",
       "      <td>This book had a lot of great content without b...</td>\n",
       "    </tr>\n",
       "    <tr>\n",
       "      <th>2640252</th>\n",
       "      <td>5</td>\n",
       "      <td>I am teaching a course in Excel and am using t...</td>\n",
       "    </tr>\n",
       "    <tr>\n",
       "      <th>2640253</th>\n",
       "      <td>5</td>\n",
       "      <td>A very comprehensive layout of exactly how Vis...</td>\n",
       "    </tr>\n",
       "  </tbody>\n",
       "</table>\n",
       "<p>2640237 rows × 2 columns</p>\n",
       "</div>"
      ],
      "text/plain": [
       "         star_rating                                        review_body\n",
       "0                  5                                     Great product.\n",
       "1                  5  What's to say about this commodity item except...\n",
       "2                  5    Haven't used yet, but I am sure I will like it.\n",
       "3                  1  Although this was labeled as &#34;new&#34; the...\n",
       "4                  4                    Gorgeous colors and easy to use\n",
       "...              ...                                                ...\n",
       "2640249            4  I can't live anymore whithout my Palm III. But...\n",
       "2640250            4  Although the Palm Pilot is thin and compact it...\n",
       "2640251            4  This book had a lot of great content without b...\n",
       "2640252            5  I am teaching a course in Excel and am using t...\n",
       "2640253            5  A very comprehensive layout of exactly how Vis...\n",
       "\n",
       "[2640237 rows x 2 columns]"
      ]
     },
     "execution_count": 291,
     "metadata": {},
     "output_type": "execute_result"
    }
   ],
   "source": [
    "updated_reviews_ratings_df"
   ]
  },
  {
   "cell_type": "code",
   "execution_count": 292,
   "metadata": {},
   "outputs": [
    {
     "data": {
      "text/html": [
       "<div>\n",
       "<style scoped>\n",
       "    .dataframe tbody tr th:only-of-type {\n",
       "        vertical-align: middle;\n",
       "    }\n",
       "\n",
       "    .dataframe tbody tr th {\n",
       "        vertical-align: top;\n",
       "    }\n",
       "\n",
       "    .dataframe thead th {\n",
       "        text-align: right;\n",
       "    }\n",
       "</style>\n",
       "<table border=\"1\" class=\"dataframe\">\n",
       "  <thead>\n",
       "    <tr style=\"text-align: right;\">\n",
       "      <th></th>\n",
       "      <th>star_rating</th>\n",
       "      <th>review_body</th>\n",
       "    </tr>\n",
       "  </thead>\n",
       "  <tbody>\n",
       "    <tr>\n",
       "      <th>0</th>\n",
       "      <td>5</td>\n",
       "      <td>Great product.</td>\n",
       "    </tr>\n",
       "    <tr>\n",
       "      <th>1</th>\n",
       "      <td>5</td>\n",
       "      <td>What's to say about this commodity item except...</td>\n",
       "    </tr>\n",
       "    <tr>\n",
       "      <th>2</th>\n",
       "      <td>5</td>\n",
       "      <td>Haven't used yet, but I am sure I will like it.</td>\n",
       "    </tr>\n",
       "    <tr>\n",
       "      <th>3</th>\n",
       "      <td>1</td>\n",
       "      <td>Although this was labeled as &amp;#34;new&amp;#34; the...</td>\n",
       "    </tr>\n",
       "    <tr>\n",
       "      <th>4</th>\n",
       "      <td>4</td>\n",
       "      <td>Gorgeous colors and easy to use</td>\n",
       "    </tr>\n",
       "    <tr>\n",
       "      <th>...</th>\n",
       "      <td>...</td>\n",
       "      <td>...</td>\n",
       "    </tr>\n",
       "    <tr>\n",
       "      <th>2640249</th>\n",
       "      <td>4</td>\n",
       "      <td>I can't live anymore whithout my Palm III. But...</td>\n",
       "    </tr>\n",
       "    <tr>\n",
       "      <th>2640250</th>\n",
       "      <td>4</td>\n",
       "      <td>Although the Palm Pilot is thin and compact it...</td>\n",
       "    </tr>\n",
       "    <tr>\n",
       "      <th>2640251</th>\n",
       "      <td>4</td>\n",
       "      <td>This book had a lot of great content without b...</td>\n",
       "    </tr>\n",
       "    <tr>\n",
       "      <th>2640252</th>\n",
       "      <td>5</td>\n",
       "      <td>I am teaching a course in Excel and am using t...</td>\n",
       "    </tr>\n",
       "    <tr>\n",
       "      <th>2640253</th>\n",
       "      <td>5</td>\n",
       "      <td>A very comprehensive layout of exactly how Vis...</td>\n",
       "    </tr>\n",
       "  </tbody>\n",
       "</table>\n",
       "<p>2640080 rows × 2 columns</p>\n",
       "</div>"
      ],
      "text/plain": [
       "         star_rating                                        review_body\n",
       "0                  5                                     Great product.\n",
       "1                  5  What's to say about this commodity item except...\n",
       "2                  5    Haven't used yet, but I am sure I will like it.\n",
       "3                  1  Although this was labeled as &#34;new&#34; the...\n",
       "4                  4                    Gorgeous colors and easy to use\n",
       "...              ...                                                ...\n",
       "2640249            4  I can't live anymore whithout my Palm III. But...\n",
       "2640250            4  Although the Palm Pilot is thin and compact it...\n",
       "2640251            4  This book had a lot of great content without b...\n",
       "2640252            5  I am teaching a course in Excel and am using t...\n",
       "2640253            5  A very comprehensive layout of exactly how Vis...\n",
       "\n",
       "[2640080 rows x 2 columns]"
      ]
     },
     "execution_count": 292,
     "metadata": {},
     "output_type": "execute_result"
    }
   ],
   "source": [
    "updated_reviews_ratings_df = updated_reviews_ratings_df.dropna()\n",
    "updated_reviews_ratings_df"
   ]
  },
  {
   "cell_type": "code",
   "execution_count": 293,
   "metadata": {},
   "outputs": [
    {
     "name": "stdout",
     "output_type": "stream",
     "text": [
      "         star_rating  review_body\n",
      "0              False        False\n",
      "1              False        False\n",
      "2              False        False\n",
      "3              False        False\n",
      "4              False        False\n",
      "...              ...          ...\n",
      "2640249        False        False\n",
      "2640250        False        False\n",
      "2640251        False        False\n",
      "2640252        False        False\n",
      "2640253        False        False\n",
      "\n",
      "[2640080 rows x 2 columns]\n",
      "There are no NaN values in the DataFrame.\n"
     ]
    }
   ],
   "source": [
    "# Check for NaN values\n",
    "nan_check = updated_reviews_ratings_df.isna()\n",
    "\n",
    "# Display the DataFrame with True where NaN values exist\n",
    "print(nan_check)\n",
    "\n",
    "# Check if any NaN value exists in the DataFrame\n",
    "if nan_check.any().any():\n",
    "    print(\"There are NaN values in the DataFrame.\")\n",
    "else:\n",
    "    print(\"There are no NaN values in the DataFrame.\")"
   ]
  },
  {
   "cell_type": "code",
   "execution_count": 294,
   "metadata": {},
   "outputs": [
    {
     "name": "stdout",
     "output_type": "stream",
     "text": [
      "# reviews per rating star_rating\n",
      "5    1582704\n",
      "4     418348\n",
      "1     306967\n",
      "3     193680\n",
      "2     138381\n",
      "Name: count, dtype: int64\n"
     ]
    }
   ],
   "source": [
    "print(\"# reviews per rating\", updated_reviews_ratings_df['star_rating'].value_counts())"
   ]
  },
  {
   "cell_type": "code",
   "execution_count": 295,
   "metadata": {},
   "outputs": [],
   "source": [
    "def sample_star_ratings(df: pd.DataFrame, col_name: str, star_value: int, number_of_reviews: int):\n",
    "    \"\"\"Build a subset balanced dataset with reviews\n",
    "\n",
    "    Parameters\n",
    "    ----------\n",
    "    df: `pd.DataFrame`\n",
    "        The dataframe to use\n",
    "    col_name: `str`\n",
    "        The name of the column to get reviews from\n",
    "    star_value: `int`\n",
    "        The star rating of the review\n",
    "    number_of_reviews: `int`\n",
    "        The number of sub reviews to include in sample\n",
    "\n",
    "    Return\n",
    "    ------\n",
    "    rating_df, sampled_rating_df: `tuple`\n",
    "        All reviews with that rating and the subset reviews with that rating\n",
    "    \"\"\"\n",
    "    \n",
    "    rating_df = df[df[col_name] == star_value]\n",
    "    sampled_rating_df = rating_df.sample(n=number_of_reviews)\n",
    "    return rating_df, sampled_rating_df"
   ]
  },
  {
   "cell_type": "code",
   "execution_count": 296,
   "metadata": {},
   "outputs": [],
   "source": [
    "# subset_reviews = 50000\n",
    "subset_reviews = 300\n",
    "\n",
    "one_star = 1\n",
    "rating_one, rating_one_sampled = sample_star_ratings(updated_reviews_ratings_df, 'star_rating', one_star, subset_reviews)\n",
    "two_stars = 2\n",
    "rating_two, rating_two_sampled = sample_star_ratings(updated_reviews_ratings_df, 'star_rating', two_stars, subset_reviews)\n",
    "three_stars = 3\n",
    "rating_three, rating_three_sampled = sample_star_ratings(updated_reviews_ratings_df, 'star_rating', three_stars, subset_reviews)\n",
    "four_stars = 4\n",
    "rating_four, rating_four_sampled = sample_star_ratings(updated_reviews_ratings_df, 'star_rating', four_stars, subset_reviews)\n",
    "five_stars = 5\n",
    "rating_five, rating_five_sampled = sample_star_ratings(updated_reviews_ratings_df, 'star_rating', five_stars, subset_reviews)"
   ]
  },
  {
   "cell_type": "code",
   "execution_count": 297,
   "metadata": {},
   "outputs": [],
   "source": [
    "sampled_reviews_df = pd.concat([rating_one_sampled, rating_two_sampled, rating_three_sampled, rating_four_sampled, rating_five_sampled])"
   ]
  },
  {
   "cell_type": "code",
   "execution_count": 298,
   "metadata": {},
   "outputs": [
    {
     "data": {
      "text/html": [
       "<div>\n",
       "<style scoped>\n",
       "    .dataframe tbody tr th:only-of-type {\n",
       "        vertical-align: middle;\n",
       "    }\n",
       "\n",
       "    .dataframe tbody tr th {\n",
       "        vertical-align: top;\n",
       "    }\n",
       "\n",
       "    .dataframe thead th {\n",
       "        text-align: right;\n",
       "    }\n",
       "</style>\n",
       "<table border=\"1\" class=\"dataframe\">\n",
       "  <thead>\n",
       "    <tr style=\"text-align: right;\">\n",
       "      <th></th>\n",
       "      <th>star_rating</th>\n",
       "      <th>review_body</th>\n",
       "    </tr>\n",
       "  </thead>\n",
       "  <tbody>\n",
       "    <tr>\n",
       "      <th>163153</th>\n",
       "      <td>1</td>\n",
       "      <td>Used it on a cruise for sign and sail card. 3 ...</td>\n",
       "    </tr>\n",
       "    <tr>\n",
       "      <th>1286562</th>\n",
       "      <td>1</td>\n",
       "      <td>Based on the many excellent reviews, BIG disap...</td>\n",
       "    </tr>\n",
       "    <tr>\n",
       "      <th>483876</th>\n",
       "      <td>1</td>\n",
       "      <td>horrible</td>\n",
       "    </tr>\n",
       "    <tr>\n",
       "      <th>815215</th>\n",
       "      <td>1</td>\n",
       "      <td>falls apart straight away</td>\n",
       "    </tr>\n",
       "    <tr>\n",
       "      <th>301971</th>\n",
       "      <td>1</td>\n",
       "      <td>These lamps are inexpensive and don't last lon...</td>\n",
       "    </tr>\n",
       "    <tr>\n",
       "      <th>...</th>\n",
       "      <td>...</td>\n",
       "      <td>...</td>\n",
       "    </tr>\n",
       "    <tr>\n",
       "      <th>134472</th>\n",
       "      <td>5</td>\n",
       "      <td>I placed my credit cards in the holders and th...</td>\n",
       "    </tr>\n",
       "    <tr>\n",
       "      <th>2180594</th>\n",
       "      <td>5</td>\n",
       "      <td>Works perfectly every time. I love the paper g...</td>\n",
       "    </tr>\n",
       "    <tr>\n",
       "      <th>1381784</th>\n",
       "      <td>5</td>\n",
       "      <td>I though we needed new phones and then decided...</td>\n",
       "    </tr>\n",
       "    <tr>\n",
       "      <th>793804</th>\n",
       "      <td>5</td>\n",
       "      <td>good price fast delivery Thanks</td>\n",
       "    </tr>\n",
       "    <tr>\n",
       "      <th>596265</th>\n",
       "      <td>5</td>\n",
       "      <td>I like bears, especially white ones.</td>\n",
       "    </tr>\n",
       "  </tbody>\n",
       "</table>\n",
       "<p>1500 rows × 2 columns</p>\n",
       "</div>"
      ],
      "text/plain": [
       "         star_rating                                        review_body\n",
       "163153             1  Used it on a cruise for sign and sail card. 3 ...\n",
       "1286562            1  Based on the many excellent reviews, BIG disap...\n",
       "483876             1                                           horrible\n",
       "815215             1                          falls apart straight away\n",
       "301971             1  These lamps are inexpensive and don't last lon...\n",
       "...              ...                                                ...\n",
       "134472             5  I placed my credit cards in the holders and th...\n",
       "2180594            5  Works perfectly every time. I love the paper g...\n",
       "1381784            5  I though we needed new phones and then decided...\n",
       "793804             5                    good price fast delivery Thanks\n",
       "596265             5               I like bears, especially white ones.\n",
       "\n",
       "[1500 rows x 2 columns]"
      ]
     },
     "execution_count": 298,
     "metadata": {},
     "output_type": "execute_result"
    }
   ],
   "source": [
    "sampled_reviews_df"
   ]
  },
  {
   "cell_type": "code",
   "execution_count": 299,
   "metadata": {},
   "outputs": [],
   "source": [
    "\n",
    "def separate_reviews_by_rating(df: pd.DataFrame, rating_col: str, threshold: int, sentiment_type: str):\n",
    "    \"\"\"Categorizes reviews by adding a rating\n",
    "\n",
    "    Parameters\n",
    "    ----------\n",
    "    df: `pd.DataFrame`\n",
    "        The data\n",
    "    \n",
    "    rating_col: `str`\n",
    "        Column with rating values\n",
    "    \n",
    "    threshold: `int`\n",
    "        Where to split the ratings such that categories can be formed\n",
    "\n",
    "    sentiment_type: `str`\n",
    "        One of three types of sentiment: positive, negative, or neural\n",
    "\n",
    "    Return\n",
    "    ------\n",
    "    df: `pd.DataFrame`\n",
    "        An updated DataFrame with the new sentiment appened\n",
    "    \"\"\"\n",
    "\n",
    "\n",
    "    if sentiment_type == 'negative_review_class':\n",
    "        positive_review_threshold = df[rating_col].astype('int32') > threshold\n",
    "        df = df[positive_review_threshold]\n",
    "        df[sentiment_type] = 1\n",
    "\n",
    "    elif sentiment_type == 'neutral_review_class':\n",
    "        positive_review_threshold = df[rating_col].astype('int32') == threshold\n",
    "        df = df[positive_review_threshold]\n",
    "        df[sentiment_type] = 2\n",
    "\n",
    "    elif sentiment_type == 'positive_review_class':\n",
    "        positive_review_threshold = df[rating_col].astype('int32') < threshold\n",
    "        df = df[positive_review_threshold]\n",
    "        df[sentiment_type] = 3\n",
    "        \n",
    "    return df"
   ]
  },
  {
   "cell_type": "code",
   "execution_count": 300,
   "metadata": {},
   "outputs": [
    {
     "name": "stderr",
     "output_type": "stream",
     "text": [
      "/var/folders/fz/zn5r8vq12nv5p23dtlr15sk40000gn/T/ipykernel_10788/2166075515.py:28: SettingWithCopyWarning: \n",
      "A value is trying to be set on a copy of a slice from a DataFrame.\n",
      "Try using .loc[row_indexer,col_indexer] = value instead\n",
      "\n",
      "See the caveats in the documentation: https://pandas.pydata.org/pandas-docs/stable/user_guide/indexing.html#returning-a-view-versus-a-copy\n",
      "  df[sentiment_type] = 1\n",
      "/var/folders/fz/zn5r8vq12nv5p23dtlr15sk40000gn/T/ipykernel_10788/2166075515.py:33: SettingWithCopyWarning: \n",
      "A value is trying to be set on a copy of a slice from a DataFrame.\n",
      "Try using .loc[row_indexer,col_indexer] = value instead\n",
      "\n",
      "See the caveats in the documentation: https://pandas.pydata.org/pandas-docs/stable/user_guide/indexing.html#returning-a-view-versus-a-copy\n",
      "  df[sentiment_type] = 2\n",
      "/var/folders/fz/zn5r8vq12nv5p23dtlr15sk40000gn/T/ipykernel_10788/2166075515.py:38: SettingWithCopyWarning: \n",
      "A value is trying to be set on a copy of a slice from a DataFrame.\n",
      "Try using .loc[row_indexer,col_indexer] = value instead\n",
      "\n",
      "See the caveats in the documentation: https://pandas.pydata.org/pandas-docs/stable/user_guide/indexing.html#returning-a-view-versus-a-copy\n",
      "  df[sentiment_type] = 3\n"
     ]
    }
   ],
   "source": [
    "negative_review_class_df = separate_reviews_by_rating(sampled_reviews_df, 'star_rating', 3, 'negative_review_class')\n",
    "neutral_review_class_df = separate_reviews_by_rating(sampled_reviews_df, 'star_rating', 3, 'neutral_review_class')\n",
    "positive_review_class_df = separate_reviews_by_rating(sampled_reviews_df, 'star_rating', 3, 'positive_review_class')"
   ]
  },
  {
   "cell_type": "code",
   "execution_count": 301,
   "metadata": {},
   "outputs": [
    {
     "data": {
      "text/html": [
       "<div>\n",
       "<style scoped>\n",
       "    .dataframe tbody tr th:only-of-type {\n",
       "        vertical-align: middle;\n",
       "    }\n",
       "\n",
       "    .dataframe tbody tr th {\n",
       "        vertical-align: top;\n",
       "    }\n",
       "\n",
       "    .dataframe thead th {\n",
       "        text-align: right;\n",
       "    }\n",
       "</style>\n",
       "<table border=\"1\" class=\"dataframe\">\n",
       "  <thead>\n",
       "    <tr style=\"text-align: right;\">\n",
       "      <th></th>\n",
       "      <th>star_rating</th>\n",
       "      <th>review_body</th>\n",
       "      <th>negative_review_class</th>\n",
       "      <th>neutral_review_class</th>\n",
       "      <th>positive_review_class</th>\n",
       "    </tr>\n",
       "  </thead>\n",
       "  <tbody>\n",
       "    <tr>\n",
       "      <th>2528018</th>\n",
       "      <td>4</td>\n",
       "      <td>Bought this phone for my 86 year old uncle. Th...</td>\n",
       "      <td>1.0</td>\n",
       "      <td>NaN</td>\n",
       "      <td>NaN</td>\n",
       "    </tr>\n",
       "    <tr>\n",
       "      <th>67050</th>\n",
       "      <td>4</td>\n",
       "      <td>I had used one of these at work and liked it e...</td>\n",
       "      <td>1.0</td>\n",
       "      <td>NaN</td>\n",
       "      <td>NaN</td>\n",
       "    </tr>\n",
       "    <tr>\n",
       "      <th>2309113</th>\n",
       "      <td>4</td>\n",
       "      <td>The size is about the same as an iPhone, its v...</td>\n",
       "      <td>1.0</td>\n",
       "      <td>NaN</td>\n",
       "      <td>NaN</td>\n",
       "    </tr>\n",
       "    <tr>\n",
       "      <th>1081311</th>\n",
       "      <td>4</td>\n",
       "      <td>I have found this stand to be very study for m...</td>\n",
       "      <td>1.0</td>\n",
       "      <td>NaN</td>\n",
       "      <td>NaN</td>\n",
       "    </tr>\n",
       "    <tr>\n",
       "      <th>1413852</th>\n",
       "      <td>4</td>\n",
       "      <td>This was the perfect refill for my printer.  I...</td>\n",
       "      <td>1.0</td>\n",
       "      <td>NaN</td>\n",
       "      <td>NaN</td>\n",
       "    </tr>\n",
       "    <tr>\n",
       "      <th>...</th>\n",
       "      <td>...</td>\n",
       "      <td>...</td>\n",
       "      <td>...</td>\n",
       "      <td>...</td>\n",
       "      <td>...</td>\n",
       "    </tr>\n",
       "    <tr>\n",
       "      <th>1433552</th>\n",
       "      <td>2</td>\n",
       "      <td>Do I return my printer and get a next one, I l...</td>\n",
       "      <td>NaN</td>\n",
       "      <td>NaN</td>\n",
       "      <td>3.0</td>\n",
       "    </tr>\n",
       "    <tr>\n",
       "      <th>835203</th>\n",
       "      <td>2</td>\n",
       "      <td>Pretty chicken s*** that it does NOT include N...</td>\n",
       "      <td>NaN</td>\n",
       "      <td>NaN</td>\n",
       "      <td>3.0</td>\n",
       "    </tr>\n",
       "    <tr>\n",
       "      <th>2553531</th>\n",
       "      <td>2</td>\n",
       "      <td>Use army time.When you set the date use the da...</td>\n",
       "      <td>NaN</td>\n",
       "      <td>NaN</td>\n",
       "      <td>3.0</td>\n",
       "    </tr>\n",
       "    <tr>\n",
       "      <th>1015071</th>\n",
       "      <td>2</td>\n",
       "      <td>It gets atleast 2 because of the sound quality...</td>\n",
       "      <td>NaN</td>\n",
       "      <td>NaN</td>\n",
       "      <td>3.0</td>\n",
       "    </tr>\n",
       "    <tr>\n",
       "      <th>2502018</th>\n",
       "      <td>2</td>\n",
       "      <td>I went looking for a phone that was comfortabl...</td>\n",
       "      <td>NaN</td>\n",
       "      <td>NaN</td>\n",
       "      <td>3.0</td>\n",
       "    </tr>\n",
       "  </tbody>\n",
       "</table>\n",
       "<p>1500 rows × 5 columns</p>\n",
       "</div>"
      ],
      "text/plain": [
       "         star_rating                                        review_body  \\\n",
       "2528018            4  Bought this phone for my 86 year old uncle. Th...   \n",
       "67050              4  I had used one of these at work and liked it e...   \n",
       "2309113            4  The size is about the same as an iPhone, its v...   \n",
       "1081311            4  I have found this stand to be very study for m...   \n",
       "1413852            4  This was the perfect refill for my printer.  I...   \n",
       "...              ...                                                ...   \n",
       "1433552            2  Do I return my printer and get a next one, I l...   \n",
       "835203             2  Pretty chicken s*** that it does NOT include N...   \n",
       "2553531            2  Use army time.When you set the date use the da...   \n",
       "1015071            2  It gets atleast 2 because of the sound quality...   \n",
       "2502018            2  I went looking for a phone that was comfortabl...   \n",
       "\n",
       "         negative_review_class  neutral_review_class  positive_review_class  \n",
       "2528018                    1.0                   NaN                    NaN  \n",
       "67050                      1.0                   NaN                    NaN  \n",
       "2309113                    1.0                   NaN                    NaN  \n",
       "1081311                    1.0                   NaN                    NaN  \n",
       "1413852                    1.0                   NaN                    NaN  \n",
       "...                        ...                   ...                    ...  \n",
       "1433552                    NaN                   NaN                    3.0  \n",
       "835203                     NaN                   NaN                    3.0  \n",
       "2553531                    NaN                   NaN                    3.0  \n",
       "1015071                    NaN                   NaN                    3.0  \n",
       "2502018                    NaN                   NaN                    3.0  \n",
       "\n",
       "[1500 rows x 5 columns]"
      ]
     },
     "execution_count": 301,
     "metadata": {},
     "output_type": "execute_result"
    }
   ],
   "source": [
    "sampled_reviews_ratings_df = pd.concat([negative_review_class_df, neutral_review_class_df, positive_review_class_df])\n",
    "sampled_reviews_ratings_df"
   ]
  },
  {
   "cell_type": "code",
   "execution_count": 302,
   "metadata": {},
   "outputs": [],
   "source": [
    "negative_reviews_df = sampled_reviews_ratings_df['negative_review_class'].dropna()\n",
    "neutral_reviews_df = sampled_reviews_ratings_df['neutral_review_class'].dropna()\n",
    "positive_reviews_df = sampled_reviews_ratings_df['positive_review_class'].dropna()"
   ]
  },
  {
   "cell_type": "code",
   "execution_count": 303,
   "metadata": {},
   "outputs": [],
   "source": [
    "sampled_reviews_ratings_df['binary_review_class'] = pd.concat([negative_reviews_df, positive_reviews_df])\n",
    "sampled_reviews_ratings_df['ternary_review_class'] = pd.concat([negative_reviews_df, neutral_reviews_df, positive_reviews_df])"
   ]
  },
  {
   "cell_type": "code",
   "execution_count": 304,
   "metadata": {},
   "outputs": [
    {
     "data": {
      "text/plain": [
       "array([ 1., nan,  3.])"
      ]
     },
     "execution_count": 304,
     "metadata": {},
     "output_type": "execute_result"
    }
   ],
   "source": [
    "sampled_reviews_ratings_df['binary_review_class'].unique()"
   ]
  },
  {
   "cell_type": "markdown",
   "metadata": {},
   "source": [
    "# Ignore below"
   ]
  },
  {
   "cell_type": "markdown",
   "metadata": {},
   "source": [
    "# Data Cleaning"
   ]
  },
  {
   "cell_type": "markdown",
   "metadata": {},
   "source": [
    "## Lower case"
   ]
  },
  {
   "cell_type": "code",
   "execution_count": 305,
   "metadata": {},
   "outputs": [],
   "source": [
    "def convert_reviews_to_lower_case(df: pd.DataFrame, col_name: str):\n",
    "    \"\"\"Convert all reviews to lower case\n",
    "\n",
    "    Parameters\n",
    "    ----------\n",
    "    df: `pd.DataFrame`\n",
    "        The data\n",
    "    \n",
    "    col_name: `str`\n",
    "        Column with reviews\n",
    "\n",
    "    Return\n",
    "    ------\n",
    "    df: `pd.DataFrame`\n",
    "        An updated DataFrame with the lower cased reviews\n",
    "    \"\"\"\n",
    "    \n",
    "    lower_case_reviews = []\n",
    "    updated_df = df.copy()\n",
    "    text_reviews = df[col_name].values\n",
    "    \n",
    "    for text_reviews_idx in range(len(text_reviews)):\n",
    "        text_review = text_reviews[text_reviews_idx]\n",
    "        # print(text_reviews_idx, type(text_review), text_review)\n",
    "\n",
    "        # NOT all reviews are strings, thus all can't be converted to lower cased\n",
    "        if type(text_review) != str:\n",
    "            print(True, text_review)\n",
    "            converted_str = str(text_review)\n",
    "            lower_case_reviews.append(text_review)\n",
    "         \n",
    "        else:\n",
    "            update_text_review = text_review.lower()\n",
    "            lower_case_reviews.append(update_text_review)\n",
    "\n",
    "    updated_df['lower_cased'] = lower_case_reviews\n",
    "    return updated_df"
   ]
  },
  {
   "cell_type": "code",
   "execution_count": 306,
   "metadata": {},
   "outputs": [],
   "source": [
    "# reviews_lower_cased = convert_reviews_to_lower_case(sampled_reviews_ratings_df, 'review_body')"
   ]
  },
  {
   "cell_type": "code",
   "execution_count": 307,
   "metadata": {},
   "outputs": [],
   "source": [
    "# reviews_lower_cased"
   ]
  },
  {
   "cell_type": "code",
   "execution_count": 308,
   "metadata": {},
   "outputs": [],
   "source": [
    "# print(\"reviews_lower_cased:\")\n",
    "# generate_sample_reviews(reviews_lower_cased, 'lower_cased', 3)"
   ]
  },
  {
   "cell_type": "markdown",
   "metadata": {},
   "source": [
    "## Remove HTML and URLs"
   ]
  },
  {
   "cell_type": "code",
   "execution_count": 309,
   "metadata": {},
   "outputs": [],
   "source": [
    "def remove_html_and_urls(df: pd.DataFrame, col_name: str):\n",
    "    \"\"\"Remove HTML and URLs from all reviews\n",
    "\n",
    "    Parameters\n",
    "    ----------\n",
    "    df: `pd.DataFrame`\n",
    "        The data\n",
    "    \n",
    "    col_name: `str`\n",
    "        Column with reviews\n",
    "\n",
    "    Return\n",
    "    ------\n",
    "    df: `pd.DataFrame`\n",
    "        An updated DataFrame with the html_and_urls removed\n",
    "    \"\"\"\n",
    "    \n",
    "    # url_pattern = re.compile(r'https?://\\S+|www\\. \\S+')\n",
    "\n",
    "    cleaned_reviews = []\n",
    "    updated_df = df.copy()\n",
    "    text_reviews = df[col_name].values\n",
    "\n",
    "    for text_reviews_idx in range(len(text_reviews)):\n",
    "        text_review = text_reviews[text_reviews_idx]\n",
    "\n",
    "        if isinstance(text_review, str):\n",
    "            # Check and remove HTML tags\n",
    "            has_html = bool(re.search('<.*?>', text_review))\n",
    "            if has_html == True:\n",
    "                # print(\"Review\", text_reviews_idx, \"has HTML -- \", text_review)\n",
    "                pass\n",
    "\n",
    "            no_html_review = re.sub('<.*?>', ' ', text_review)\n",
    "            # print(\"Review\", text_reviews_idx, \"without HTML -- \", no_html_review)\n",
    "        \n",
    "            # Check and remove URLs\n",
    "            has_url = bool(re.search(r'http\\S+', no_html_review))\n",
    "            if has_url == True:\n",
    "                # print(\"Review\", text_reviews_idx, \"has URL --\", no_html_review)\n",
    "                pass\n",
    "\n",
    "            no_html_url_review = re.sub(r'http\\S+', '', no_html_review)\n",
    "            # print(\"Review\", text_reviews_idx, \"without HTML, URL -- \", no_html_url_review)\n",
    "            # print()\n",
    "            cleaned_reviews.append(no_html_url_review)\n",
    "        else:\n",
    "            # print(text_reviews_idx, text_review)\n",
    "            cleaned_reviews.append(text_review)\n",
    "            \n",
    "\n",
    "    updated_df['without_html_urls'] = cleaned_reviews\n",
    "    return updated_df"
   ]
  },
  {
   "cell_type": "code",
   "execution_count": 310,
   "metadata": {},
   "outputs": [],
   "source": [
    "# no_html_urls_df = remove_html_and_urls(reviews_lower_cased, 'lower_cased')"
   ]
  },
  {
   "cell_type": "code",
   "execution_count": 311,
   "metadata": {},
   "outputs": [],
   "source": [
    "# no_html_urls_df"
   ]
  },
  {
   "cell_type": "code",
   "execution_count": 312,
   "metadata": {},
   "outputs": [],
   "source": [
    "# print(\"without_html_urls:\")\n",
    "# generate_sample_reviews(no_html_urls_df, 'without_html_urls', 3)"
   ]
  },
  {
   "cell_type": "markdown",
   "metadata": {},
   "source": [
    "## Remove Contractions"
   ]
  },
  {
   "cell_type": "code",
   "execution_count": 313,
   "metadata": {},
   "outputs": [],
   "source": [
    "store_contractions = {\n",
    "    \"ain't\": \"am not\",\n",
    "    \"aren't\": \"are not\",\n",
    "    \"can't\": \"cannot\",\n",
    "    \"couldn't\": \"could not\",\n",
    "    \"didn't\": \"did not\",\n",
    "    \"doesn't\": \"does not\",\n",
    "    \"don't\": \"do not\",\n",
    "    \"hadn't\": \"had not\",\n",
    "    \"hasn't\": \"has not\",\n",
    "    \"haven't\": \"have not\",\n",
    "    \"he's\": \"he is\",\n",
    "    \"isn't\": \"is not\",\n",
    "    \"it's\": \"it is\",\n",
    "    \"let's\": \"let us\",\n",
    "    \"mustn't\": \"must not\",\n",
    "    \"shan't\": \"shall not\",\n",
    "    \"she's\": \"she is\",\n",
    "    \"shouldn't\": \"should not\",\n",
    "    \"that's\": \"that is\",\n",
    "    \"there's\": \"there is\",\n",
    "    \"they're\": \"they are\",\n",
    "    \"wasn't\": \"was not\",\n",
    "    \"we're\": \"we are\",\n",
    "    \"weren't\": \"were not\",\n",
    "    \"won't\": \"will not\",\n",
    "    \"wouldn't\": \"would not\",\n",
    "    \"you're\": \"you are\",\n",
    "    \"you'll\": \"you will\",\n",
    "    \"you'd\": \"you would\",\n",
    "    \"we'll\": \"we will\",\n",
    "    \"we've\": \"we have\",\n",
    "    \"we'd\": \"we would\",\n",
    "    \"I'm\": \"I am\",\n",
    "    \"i've\": \"I have\",\n",
    "    \"I've\": \"I have\",\n",
    "    \"I'd\": \"I would\",\n",
    "    \"it'll\": \"it will\",\n",
    "    \"they'll\": \"they will\",\n",
    "    \"they've\": \"they have\",\n",
    "    \"they'd\": \"they would\",\n",
    "    \"he'll\": \"he will\",\n",
    "    \"he'd\": \"he would\",\n",
    "    \"she'll\": \"she will\",\n",
    "    \"we'd\": \"we would\",\n",
    "    \"we'll\": \"we will\",\n",
    "    \"you've\": \"you have\",\n",
    "    \"you'd\": \"you would\",\n",
    "    \"you'll\": \"you will\",\n",
    "    \"I'll\": \"I will\",\n",
    "    \"I'd\": \"I would\",\n",
    "    \"it's\": \"it is\",\n",
    "    \"it'd\": \"it would\",\n",
    "    \"i'm\": \"I am\",\n",
    "    \"he's\": \"he is\",\n",
    "    \"he'll\": \"he will\",\n",
    "    \"she's\": \"she is\",\n",
    "    \"she'll\": \"she will\",\n",
    "    \"we're\": \"we are\",\n",
    "    \"we've\": \"we have\",\n",
    "    \"we'll\": \"we will\",\n",
    "    \"you're\": \"you are\",\n",
    "    \"you've\": \"you have\",\n",
    "    \"you'll\": \"you will\",\n",
    "    \"they're\": \"they are\",\n",
    "    \"they've\": \"they have\",\n",
    "    \"they'll\": \"they will\",\n",
    "    \"that's\": \"that is\",\n",
    "    \"that'll\": \"that will\",\n",
    "    \"that'd\": \"that would\",\n",
    "    \"who's\": \"who is\",\n",
    "    \"who'll\": \"who will\",\n",
    "    \"who'd\": \"who would\",\n",
    "    \"what's\": \"what is\",\n",
    "    \"what'll\": \"what will\",\n",
    "    \"what'd\": \"what would\",\n",
    "    \"when's\": \"when is\",\n",
    "    \"when'll\": \"when will\",\n",
    "    \"when'd\": \"when would\",\n",
    "    \"where's\": \"where is\",\n",
    "    \"where'll\": \"where will\",\n",
    "    \"where'd\": \"where would\",\n",
    "    \"why's\": \"why is\",\n",
    "    \"why'll\": \"why will\",\n",
    "    \"why'd\": \"why would\",\n",
    "    \"how's\": \"how is\",\n",
    "    \"how'll\": \"how will\",\n",
    "    \"how'd\": \"how would\"\n",
    "}\n"
   ]
  },
  {
   "cell_type": "code",
   "execution_count": 314,
   "metadata": {},
   "outputs": [],
   "source": [
    "def locate_and_replace_contractions(review):\n",
    "    \"\"\"Find the contractions to replace from a specific review\n",
    "\n",
    "    Parameters\n",
    "    ----------\n",
    "    review: `str`\n",
    "        A specific review\n",
    "\n",
    "    Return\n",
    "    ------\n",
    "    non_contraction_review: `str`\n",
    "        The updated specific review with contractions expanded\n",
    "    \n",
    "    \"\"\"\n",
    "    if isinstance(review, str):\n",
    "        get_words = review.split()\n",
    "\n",
    "        store_non_contraction_words = []\n",
    "\n",
    "        for word in get_words:\n",
    "            if word in store_contractions:\n",
    "                non_contraction_form = store_contractions[word]\n",
    "                # print(word, \"-->\", non_contraction_form)\n",
    "\n",
    "                store_non_contraction_words.append(non_contraction_form)\n",
    "\n",
    "            else:\n",
    "                # print(word)\n",
    "                store_non_contraction_words.append(word)\n",
    "\n",
    "        non_contraction_review = ' '.join(store_non_contraction_words)\n",
    "        return non_contraction_review\n",
    "    else:\n",
    "        return review\n"
   ]
  },
  {
   "cell_type": "code",
   "execution_count": 315,
   "metadata": {},
   "outputs": [],
   "source": [
    "def remove_contractions(df:pd.DataFrame, col_name: str):\n",
    "    \"\"\"Remove contractions from all reviews\n",
    "\n",
    "    Parameters\n",
    "    ----------\n",
    "    df: `pd.DataFrame`\n",
    "        The data\n",
    "    \n",
    "    col_name: `str`\n",
    "        Column with reviews\n",
    "\n",
    "    Return\n",
    "    ------\n",
    "    df: `pd.DataFrame`\n",
    "        An updated DataFrame with the extra spaces removed\n",
    "    \"\"\"\n",
    "    \n",
    "    without_contractions_reviews = []\n",
    "    updated_df = df.copy()\n",
    "    text_reviews = df[col_name].values\n",
    "\n",
    "    for text_reviews_idx in range(len(text_reviews)):\n",
    "        text_review = text_reviews[text_reviews_idx]\n",
    "\n",
    "        # print(\"Review\", text_reviews_idx, \"with possible contraction(s) -- \", text_review)\n",
    "\n",
    "        without_contraction = locate_and_replace_contractions(text_review)\n",
    "\n",
    "        # print(\"Review\", text_reviews_idx, \"without contraction -- \", without_contraction)\n",
    "        # print()\n",
    "\n",
    "        without_contractions_reviews.append(without_contraction)\n",
    "\n",
    "    updated_df['without_contractions'] = without_contractions_reviews\n",
    "    return updated_df"
   ]
  },
  {
   "cell_type": "code",
   "execution_count": 316,
   "metadata": {},
   "outputs": [],
   "source": [
    "# no_contractions_df = remove_contractions(no_html_urls_df, 'without_html_urls')"
   ]
  },
  {
   "cell_type": "code",
   "execution_count": 317,
   "metadata": {},
   "outputs": [],
   "source": [
    "# no_contractions_df"
   ]
  },
  {
   "cell_type": "code",
   "execution_count": 318,
   "metadata": {},
   "outputs": [],
   "source": [
    "# print(\"without_contractions:\")\n",
    "# generate_sample_reviews(no_contractions_df, 'without_contractions', 3)"
   ]
  },
  {
   "cell_type": "markdown",
   "metadata": {},
   "source": [
    "## Remove Non-alphabetical characters"
   ]
  },
  {
   "cell_type": "code",
   "execution_count": 319,
   "metadata": {},
   "outputs": [],
   "source": [
    "def remove_non_alphabetical_characters(df:pd.DataFrame, col_name: str):\n",
    "    \"\"\"Remove Non-alphabetical characters from all reviews\n",
    "\n",
    "    Parameters\n",
    "    ----------\n",
    "    df: `pd.DataFrame`\n",
    "        The data\n",
    "    \n",
    "    col_name: `str`\n",
    "        Column with reviews\n",
    "\n",
    "    Return\n",
    "    ------\n",
    "    df: `pd.DataFrame`\n",
    "        An updated DataFrame with the non-alphabetical characters removed\n",
    "    \"\"\"\n",
    "\n",
    "    alphabetical_char_reviews = []\n",
    "    updated_df = df.copy()\n",
    "    text_reviews = df[col_name].values\n",
    "    # print(text_reviews)\n",
    "\n",
    "    for text_reviews_idx in range(len(text_reviews)):\n",
    "        text_review = text_reviews[text_reviews_idx]\n",
    "        \n",
    "        if isinstance(text_review, str):\n",
    "\n",
    "            # Check for non-alphabetical characters\n",
    "            has_non_alphabetical_char = bool(re.search(r'[^a-zA-Z]', text_review))\n",
    "            if has_non_alphabetical_char == True:\n",
    "                # print(\"Review\", text_reviews_idx, \"has HTML -- \", text_review)\n",
    "                pass\n",
    "            \n",
    "            # Remove non-alphabetical characters\n",
    "            with_alphabetical_char = re.sub(r'[^a-zA-Z\\s]', ' ', text_review)\n",
    "            # print(\"Review\", text_reviews_idx, \"has HTML -- \", with_alphabetical_char)\n",
    "            alphabetical_char_reviews.append(with_alphabetical_char)\n",
    "        else:\n",
    "            alphabetical_char_reviews.append(text_review)\n",
    "\n",
    "    updated_df['with_alpha_chars_only'] = alphabetical_char_reviews\n",
    "    return updated_df"
   ]
  },
  {
   "cell_type": "code",
   "execution_count": 320,
   "metadata": {},
   "outputs": [],
   "source": [
    "# only_alpha_chars_df = remove_non_alphabetical_characters(no_contractions_df, 'without_contractions')"
   ]
  },
  {
   "cell_type": "code",
   "execution_count": 321,
   "metadata": {},
   "outputs": [],
   "source": [
    "# only_alpha_chars_df"
   ]
  },
  {
   "cell_type": "code",
   "execution_count": 322,
   "metadata": {},
   "outputs": [],
   "source": [
    "# print(\"with_alpha_chars_only:\")\n",
    "# generate_sample_reviews(only_alpha_chars_df, 'with_alpha_chars_only', 3)"
   ]
  },
  {
   "cell_type": "markdown",
   "metadata": {},
   "source": [
    "## Remove extra spaces"
   ]
  },
  {
   "cell_type": "code",
   "execution_count": 323,
   "metadata": {},
   "outputs": [],
   "source": [
    "def remove_extra_spaces(df:pd.DataFrame, col_name: str):\n",
    "    \"\"\"Remove extra spaces from all reviews\n",
    "\n",
    "    Parameters\n",
    "    ----------\n",
    "    df: `pd.DataFrame`\n",
    "        The data\n",
    "    \n",
    "    col_name: `str`\n",
    "        Column with reviews\n",
    "\n",
    "    Return\n",
    "    ------\n",
    "    df: `pd.DataFrame`\n",
    "        An updated DataFrame with the extra spaces removed\n",
    "    \"\"\"\n",
    "    \n",
    "    single_spaced_reviews = []\n",
    "    updated_df = df.copy()\n",
    "    text_reviews = df[col_name].values\n",
    "    # print(text_reviews)\n",
    "\n",
    "    for text_reviews_idx in range(len(text_reviews)):\n",
    "        text_review = text_reviews[text_reviews_idx]\n",
    "\n",
    "        if isinstance(text_review, str):\n",
    "        # Check if there are any extra spaces\n",
    "            has_extra_space = bool(re.search(r' +', text_review))\n",
    "            if has_extra_space == True:\n",
    "                # print(\"Review\", text_reviews_idx, \"has extra space -- \", text_review)\n",
    "                pass\n",
    "            \n",
    "            # Remove extra spaces\n",
    "            single_spaced_review = re.sub(r' +', ' ', text_review)\n",
    "            # print(\"Review\", text_reviews_idx, \"without extra space -- \", single_spaced_review)\n",
    "            # print()\n",
    "            \n",
    "            single_spaced_reviews.append(single_spaced_review)\n",
    "        else:\n",
    "            single_spaced_reviews.append(text_review)\n",
    "\n",
    "    updated_df['without_extra_space'] = single_spaced_reviews\n",
    "    return updated_df"
   ]
  },
  {
   "cell_type": "code",
   "execution_count": 324,
   "metadata": {},
   "outputs": [],
   "source": [
    "# no_extra_space_df = remove_extra_spaces(only_alpha_chars_df, 'with_alpha_chars_only')"
   ]
  },
  {
   "cell_type": "code",
   "execution_count": 325,
   "metadata": {},
   "outputs": [],
   "source": [
    "# no_extra_space_df"
   ]
  },
  {
   "cell_type": "code",
   "execution_count": 326,
   "metadata": {},
   "outputs": [],
   "source": [
    "# print(\"without_extra_space:\")\n",
    "# generate_sample_reviews(no_extra_space_df, 'without_extra_space', 3)"
   ]
  },
  {
   "cell_type": "markdown",
   "metadata": {},
   "source": [
    "# Pre-processing"
   ]
  },
  {
   "cell_type": "markdown",
   "metadata": {},
   "source": [
    "## remove the stop words "
   ]
  },
  {
   "cell_type": "code",
   "execution_count": 327,
   "metadata": {},
   "outputs": [],
   "source": [
    "def filter_stop_words(df:pd.DataFrame, col_name: str):\n",
    "    \"\"\"Filter stop words out from all reviews\n",
    "\n",
    "    Parameters\n",
    "    ----------\n",
    "    df: `pd.DataFrame`\n",
    "        The data\n",
    "    \n",
    "    col_name: `str`\n",
    "        Column with reviews\n",
    "\n",
    "    Return\n",
    "    ------\n",
    "    df: `pd.DataFrame`\n",
    "        An updated DataFrame with the extra spaces removed\n",
    "    \"\"\"\n",
    "    \n",
    "    without_stop_words_reviews = []\n",
    "    updated_df = df.copy()\n",
    "    text_reviews = df[col_name].values\n",
    "\n",
    "    stop_words = set(stopwords.words(\"english\"))\n",
    "\n",
    "    for text_reviews_idx in range(len(text_reviews)):\n",
    "        text_review = text_reviews[text_reviews_idx]\n",
    "\n",
    "        if isinstance(text_review, str):\n",
    "            text_review_words = word_tokenize(text_review) \n",
    "\n",
    "        \n",
    "\n",
    "            # print(\"Before stop word removal\", text_reviews_idx, \" -- \", text_review)\n",
    "\n",
    "            filtered_review = []\n",
    "\n",
    "            for text_review_words_idx in range(len(text_review_words)):\n",
    "                text_review_word = text_review_words[text_review_words_idx]\n",
    "                \n",
    "                # Check if review word is a stop word\n",
    "                if text_review_word in stop_words:\n",
    "                    # print(\"  Stop word -- \", text_review_word)\n",
    "                    pass\n",
    "                else:\n",
    "                    # print(text_review_word, \" -- is NOT a stop word in review\")\n",
    "                    filtered_review.append(text_review_word)\n",
    "\n",
    "            \n",
    "            filtered_review = \" \".join(filtered_review)\n",
    "            # print(\"After stop word removal\", text_reviews_idx, \" -- \", filtered_review)\n",
    "            # print()\n",
    "            \n",
    "            without_stop_words_reviews.append(filtered_review)\n",
    "        else:\n",
    "            without_stop_words_reviews.append(text_review)\n",
    "        \n",
    "\n",
    "    updated_df['without_stop_words'] = without_stop_words_reviews\n",
    "    return updated_df"
   ]
  },
  {
   "cell_type": "code",
   "execution_count": 328,
   "metadata": {},
   "outputs": [],
   "source": [
    "# no_stop_words_df = filter_stop_words(no_extra_space_df, 'without_extra_space')"
   ]
  },
  {
   "cell_type": "code",
   "execution_count": 329,
   "metadata": {},
   "outputs": [],
   "source": [
    "# no_stop_words_df"
   ]
  },
  {
   "cell_type": "code",
   "execution_count": 330,
   "metadata": {},
   "outputs": [],
   "source": [
    "# print(\"without_stop_words:\")\n",
    "# generate_sample_reviews(no_stop_words_df, 'without_stop_words', 3)"
   ]
  },
  {
   "cell_type": "markdown",
   "metadata": {},
   "source": [
    "## perform lemmatization  \n",
    "\n",
    "- \"A sentence with many words\"\n",
    "    - \"words\" -> word"
   ]
  },
  {
   "cell_type": "code",
   "execution_count": 331,
   "metadata": {},
   "outputs": [],
   "source": [
    "def lemmentize_review(df:pd.DataFrame, col_name: str):\n",
    "    \"\"\"Lemmentize all reviews\n",
    "\n",
    "    Parameters\n",
    "    ----------\n",
    "    df: `pd.DataFrame`\n",
    "        The data\n",
    "    \n",
    "    col_name: `str`\n",
    "        Column with reviews\n",
    "\n",
    "    Return\n",
    "    ------\n",
    "    df: `pd.DataFrame`\n",
    "        An updated DataFrame with the extra spaces removed\n",
    "    \"\"\"\n",
    "    \n",
    "    lemmed_reviews = []\n",
    "    updated_df = df.copy()\n",
    "    text_reviews = df[col_name].values\n",
    "\n",
    "    lem = WordNetLemmatizer()\n",
    "\n",
    "    for text_reviews_idx in range(len(text_reviews)):\n",
    "        text_review = text_reviews[text_reviews_idx]   \n",
    "        if isinstance(text_review, str):     \n",
    "            words_in_review = word_tokenize(text_review) \n",
    "\n",
    "            # print(\"Before lem update\", text_reviews_idx, \" -- \", text_review)\n",
    "            # print(\"Lemmed words\", words_in_review)\n",
    "            \n",
    "\n",
    "            lemmed_sentence = []\n",
    "\n",
    "            # Split review into words\n",
    "            for lemmed_words_idx in range(len(words_in_review)):\n",
    "                word = words_in_review[lemmed_words_idx]\n",
    "                \n",
    "                apply_lemmatization = lem.lemmatize(word)\n",
    "                # print(apply_lemmatization)\n",
    "                \n",
    "                lemmed_sentence.append(apply_lemmatization)\n",
    "                filtered_review = \" \".join(lemmed_sentence)\n",
    "        \n",
    "            # print(\"After lem update -- \", filtered_review)\n",
    "            # print()\n",
    "\n",
    "            lemmed_reviews.append(filtered_review)\n",
    "        else:\n",
    "            lemmed_reviews.append(text_review)\n",
    "\n",
    "    updated_df['lemmed_reviews'] = lemmed_reviews\n",
    "    return updated_df"
   ]
  },
  {
   "cell_type": "code",
   "execution_count": 332,
   "metadata": {},
   "outputs": [],
   "source": [
    "# lemmed_df = lemmentize_review(no_stop_words_df, 'without_stop_words')"
   ]
  },
  {
   "cell_type": "code",
   "execution_count": 333,
   "metadata": {},
   "outputs": [],
   "source": [
    "# lemmed_df"
   ]
  },
  {
   "cell_type": "code",
   "execution_count": 334,
   "metadata": {},
   "outputs": [],
   "source": [
    "# print(\"without_unlemmed_words:\")\n",
    "# generate_sample_reviews(lemmed_df, 'lemmed_reviews', 3)"
   ]
  },
  {
   "cell_type": "code",
   "execution_count": 335,
   "metadata": {},
   "outputs": [],
   "source": [
    "def preprocess_data(df, col_name):\n",
    "    \"\"\"Perform lower case, remove HTML and URLs, remove contractions, remove non-alphabetical characters, remove extra spaces, remove stop words, and lemmatize\"\"\"\n",
    "\n",
    "    print(\"original reviews:\")\n",
    "    generate_sample_reviews(df, col_name, 3)\n",
    "\n",
    "    reviews_lower_cased = convert_reviews_to_lower_case(df, col_name)\n",
    "    print(\"reviews_lower_cased:\")\n",
    "    generate_sample_reviews(reviews_lower_cased, 'lower_cased', 3)\n",
    "\n",
    "    no_html_urls_df = remove_html_and_urls(reviews_lower_cased, 'lower_cased')\n",
    "    print(\"without_html_urls:\")\n",
    "    generate_sample_reviews(no_html_urls_df, 'without_html_urls', 3)\n",
    "\n",
    "    no_contractions_df = remove_contractions(no_html_urls_df, 'without_html_urls')\n",
    "    print(\"without_contractions:\")\n",
    "    generate_sample_reviews(no_contractions_df, 'without_contractions', 3)\n",
    "\n",
    "    only_alpha_chars_df = remove_non_alphabetical_characters(no_contractions_df, 'without_contractions')\n",
    "    print(\"with_alpha_chars_only:\")\n",
    "    generate_sample_reviews(only_alpha_chars_df, 'with_alpha_chars_only', 3)\n",
    "\n",
    "    no_extra_space_df = remove_extra_spaces(only_alpha_chars_df, 'with_alpha_chars_only')\n",
    "    print(\"without_extra_space:\")\n",
    "    generate_sample_reviews(no_extra_space_df, 'without_extra_space', 3)\n",
    "\n",
    "    no_stop_words_df = filter_stop_words(no_extra_space_df, 'without_extra_space')\n",
    "    print(\"without_stop_words:\")\n",
    "    generate_sample_reviews(no_stop_words_df, 'without_stop_words', 3)\n",
    "    \n",
    "    lemmed_df = lemmentize_review(no_stop_words_df, 'without_stop_words')\n",
    "    print(\"without_unlemmed_words:\")\n",
    "    generate_sample_reviews(lemmed_df, 'lemmed_reviews', 3)\n",
    "\n",
    "    return lemmed_df\n"
   ]
  },
  {
   "cell_type": "code",
   "execution_count": 336,
   "metadata": {},
   "outputs": [
    {
     "name": "stdout",
     "output_type": "stream",
     "text": [
      "original reviews:\n",
      "{'star_rating': 4, 'review_body': 'Bought this phone for my 86 year old uncle. The amplification is fine and the phone is simple (simple is the key word). At least he can hear us now when the family calls to check on him.'}\n",
      "{'star_rating': 4, 'review_body': 'I had used one of these at work and liked it enough to buy one for myself for home.  The only thing that can get kind of annoying is that it will give a Low Battery warning when the batteries are semi-new but all I have to do is hit the backspace/clear button and it goes away. Other than that it works great and makes my filing a whole lot easier.'}\n",
      "{'star_rating': 4, 'review_body': \"The size is about the same as an iPhone, its very light too. The packaging it comes in is very inspired by Apple and comes with a soft pouch case and some connection wires including the AC adapter. The instructions are terrible, There's not much too them and it really doesn't give you enough info. Specifically, what the various adapter plugs are for. Yes, there are a few that are obvious like the iPhone/ipod/ipad but there are 2 that i don't know what they would be for.<br /><br />There is no adapter included to work with my laptop. I have a macbook pro that uses dvi and a smaller netbook pc but it uses a regular HDMI cable that is way too big and the included plugs look like cell phone mini usb's. It does come with what appears to be a VGA adapter but umm hello..its 2011, I haven't had any laptop or other piece of electronics that has a VGA port in years, everything is HDMI and HDMI mini.<br /><br />I was successful in testing it out on my iPhone watching youtube videos but because I have a case on the phone, the adapter wouldn't fit properly and would pop out and then the signal would be lost. I had to hold the adapter in the iPhone to have it work wish is silly. The plug that the iPhone came with does NOT have this problem even when the case is on the phone and its one of those thin 2 piece shells.<br /><br />I wanted to test it out using my laptop but obviously it can't be done as this is really made for iPhone/ipads. I'll have to do some research to see if there's a plug that has regular HDMI and the super mini HDMI that fits this unit.<br /><br />As for the color, it was nice, nothing spectacular, reminded me of the movie theaters 20 minute projector stuff before the showing starts. Considering its size the video is actually nice. You really need to view it in very low light unless it will be close to the wall and then the screen size will be small but much brighter and vivid. The unit does get a bit warm but nothing too hot.<br /><br />Overall its fun to have but the people who do presentations will get the most out of it. Its also good for parties to show people/friends videos and such that you have on your phone.most out of it. Its also good for parties to show people/friends videos and such that you have on your phone.\"}\n",
      "reviews_lower_cased:\n",
      "{'star_rating': 4, 'lower_cased': 'bought this phone for my 86 year old uncle. the amplification is fine and the phone is simple (simple is the key word). at least he can hear us now when the family calls to check on him.'}\n",
      "{'star_rating': 4, 'lower_cased': 'i had used one of these at work and liked it enough to buy one for myself for home.  the only thing that can get kind of annoying is that it will give a low battery warning when the batteries are semi-new but all i have to do is hit the backspace/clear button and it goes away. other than that it works great and makes my filing a whole lot easier.'}\n",
      "{'star_rating': 4, 'lower_cased': \"the size is about the same as an iphone, its very light too. the packaging it comes in is very inspired by apple and comes with a soft pouch case and some connection wires including the ac adapter. the instructions are terrible, there's not much too them and it really doesn't give you enough info. specifically, what the various adapter plugs are for. yes, there are a few that are obvious like the iphone/ipod/ipad but there are 2 that i don't know what they would be for.<br /><br />there is no adapter included to work with my laptop. i have a macbook pro that uses dvi and a smaller netbook pc but it uses a regular hdmi cable that is way too big and the included plugs look like cell phone mini usb's. it does come with what appears to be a vga adapter but umm hello..its 2011, i haven't had any laptop or other piece of electronics that has a vga port in years, everything is hdmi and hdmi mini.<br /><br />i was successful in testing it out on my iphone watching youtube videos but because i have a case on the phone, the adapter wouldn't fit properly and would pop out and then the signal would be lost. i had to hold the adapter in the iphone to have it work wish is silly. the plug that the iphone came with does not have this problem even when the case is on the phone and its one of those thin 2 piece shells.<br /><br />i wanted to test it out using my laptop but obviously it can't be done as this is really made for iphone/ipads. i'll have to do some research to see if there's a plug that has regular hdmi and the super mini hdmi that fits this unit.<br /><br />as for the color, it was nice, nothing spectacular, reminded me of the movie theaters 20 minute projector stuff before the showing starts. considering its size the video is actually nice. you really need to view it in very low light unless it will be close to the wall and then the screen size will be small but much brighter and vivid. the unit does get a bit warm but nothing too hot.<br /><br />overall its fun to have but the people who do presentations will get the most out of it. its also good for parties to show people/friends videos and such that you have on your phone.most out of it. its also good for parties to show people/friends videos and such that you have on your phone.\"}\n",
      "without_html_urls:\n",
      "{'star_rating': 4, 'without_html_urls': 'bought this phone for my 86 year old uncle. the amplification is fine and the phone is simple (simple is the key word). at least he can hear us now when the family calls to check on him.'}\n",
      "{'star_rating': 4, 'without_html_urls': 'i had used one of these at work and liked it enough to buy one for myself for home.  the only thing that can get kind of annoying is that it will give a low battery warning when the batteries are semi-new but all i have to do is hit the backspace/clear button and it goes away. other than that it works great and makes my filing a whole lot easier.'}\n",
      "{'star_rating': 4, 'without_html_urls': \"the size is about the same as an iphone, its very light too. the packaging it comes in is very inspired by apple and comes with a soft pouch case and some connection wires including the ac adapter. the instructions are terrible, there's not much too them and it really doesn't give you enough info. specifically, what the various adapter plugs are for. yes, there are a few that are obvious like the iphone/ipod/ipad but there are 2 that i don't know what they would be for.  there is no adapter included to work with my laptop. i have a macbook pro that uses dvi and a smaller netbook pc but it uses a regular hdmi cable that is way too big and the included plugs look like cell phone mini usb's. it does come with what appears to be a vga adapter but umm hello..its 2011, i haven't had any laptop or other piece of electronics that has a vga port in years, everything is hdmi and hdmi mini.  i was successful in testing it out on my iphone watching youtube videos but because i have a case on the phone, the adapter wouldn't fit properly and would pop out and then the signal would be lost. i had to hold the adapter in the iphone to have it work wish is silly. the plug that the iphone came with does not have this problem even when the case is on the phone and its one of those thin 2 piece shells.  i wanted to test it out using my laptop but obviously it can't be done as this is really made for iphone/ipads. i'll have to do some research to see if there's a plug that has regular hdmi and the super mini hdmi that fits this unit.  as for the color, it was nice, nothing spectacular, reminded me of the movie theaters 20 minute projector stuff before the showing starts. considering its size the video is actually nice. you really need to view it in very low light unless it will be close to the wall and then the screen size will be small but much brighter and vivid. the unit does get a bit warm but nothing too hot.  overall its fun to have but the people who do presentations will get the most out of it. its also good for parties to show people/friends videos and such that you have on your phone.most out of it. its also good for parties to show people/friends videos and such that you have on your phone.\"}\n",
      "without_contractions:\n",
      "{'star_rating': 4, 'without_contractions': 'bought this phone for my 86 year old uncle. the amplification is fine and the phone is simple (simple is the key word). at least he can hear us now when the family calls to check on him.'}\n",
      "{'star_rating': 4, 'without_contractions': 'i had used one of these at work and liked it enough to buy one for myself for home. the only thing that can get kind of annoying is that it will give a low battery warning when the batteries are semi-new but all i have to do is hit the backspace/clear button and it goes away. other than that it works great and makes my filing a whole lot easier.'}\n",
      "{'star_rating': 4, 'without_contractions': \"the size is about the same as an iphone, its very light too. the packaging it comes in is very inspired by apple and comes with a soft pouch case and some connection wires including the ac adapter. the instructions are terrible, there is not much too them and it really does not give you enough info. specifically, what the various adapter plugs are for. yes, there are a few that are obvious like the iphone/ipod/ipad but there are 2 that i do not know what they would be for. there is no adapter included to work with my laptop. i have a macbook pro that uses dvi and a smaller netbook pc but it uses a regular hdmi cable that is way too big and the included plugs look like cell phone mini usb's. it does come with what appears to be a vga adapter but umm hello..its 2011, i have not had any laptop or other piece of electronics that has a vga port in years, everything is hdmi and hdmi mini. i was successful in testing it out on my iphone watching youtube videos but because i have a case on the phone, the adapter would not fit properly and would pop out and then the signal would be lost. i had to hold the adapter in the iphone to have it work wish is silly. the plug that the iphone came with does not have this problem even when the case is on the phone and its one of those thin 2 piece shells. i wanted to test it out using my laptop but obviously it cannot be done as this is really made for iphone/ipads. i'll have to do some research to see if there is a plug that has regular hdmi and the super mini hdmi that fits this unit. as for the color, it was nice, nothing spectacular, reminded me of the movie theaters 20 minute projector stuff before the showing starts. considering its size the video is actually nice. you really need to view it in very low light unless it will be close to the wall and then the screen size will be small but much brighter and vivid. the unit does get a bit warm but nothing too hot. overall its fun to have but the people who do presentations will get the most out of it. its also good for parties to show people/friends videos and such that you have on your phone.most out of it. its also good for parties to show people/friends videos and such that you have on your phone.\"}\n",
      "with_alpha_chars_only:\n",
      "{'star_rating': 4, 'with_alpha_chars_only': 'bought this phone for my    year old uncle  the amplification is fine and the phone is simple  simple is the key word   at least he can hear us now when the family calls to check on him '}\n",
      "{'star_rating': 4, 'with_alpha_chars_only': 'i had used one of these at work and liked it enough to buy one for myself for home  the only thing that can get kind of annoying is that it will give a low battery warning when the batteries are semi new but all i have to do is hit the backspace clear button and it goes away  other than that it works great and makes my filing a whole lot easier '}\n",
      "{'star_rating': 4, 'with_alpha_chars_only': 'the size is about the same as an iphone  its very light too  the packaging it comes in is very inspired by apple and comes with a soft pouch case and some connection wires including the ac adapter  the instructions are terrible  there is not much too them and it really does not give you enough info  specifically  what the various adapter plugs are for  yes  there are a few that are obvious like the iphone ipod ipad but there are   that i do not know what they would be for  there is no adapter included to work with my laptop  i have a macbook pro that uses dvi and a smaller netbook pc but it uses a regular hdmi cable that is way too big and the included plugs look like cell phone mini usb s  it does come with what appears to be a vga adapter but umm hello  its       i have not had any laptop or other piece of electronics that has a vga port in years  everything is hdmi and hdmi mini  i was successful in testing it out on my iphone watching youtube videos but because i have a case on the phone  the adapter would not fit properly and would pop out and then the signal would be lost  i had to hold the adapter in the iphone to have it work wish is silly  the plug that the iphone came with does not have this problem even when the case is on the phone and its one of those thin   piece shells  i wanted to test it out using my laptop but obviously it cannot be done as this is really made for iphone ipads  i ll have to do some research to see if there is a plug that has regular hdmi and the super mini hdmi that fits this unit  as for the color  it was nice  nothing spectacular  reminded me of the movie theaters    minute projector stuff before the showing starts  considering its size the video is actually nice  you really need to view it in very low light unless it will be close to the wall and then the screen size will be small but much brighter and vivid  the unit does get a bit warm but nothing too hot  overall its fun to have but the people who do presentations will get the most out of it  its also good for parties to show people friends videos and such that you have on your phone most out of it  its also good for parties to show people friends videos and such that you have on your phone '}\n",
      "without_extra_space:\n",
      "{'star_rating': 4, 'without_extra_space': 'bought this phone for my year old uncle the amplification is fine and the phone is simple simple is the key word at least he can hear us now when the family calls to check on him '}\n",
      "{'star_rating': 4, 'without_extra_space': 'i had used one of these at work and liked it enough to buy one for myself for home the only thing that can get kind of annoying is that it will give a low battery warning when the batteries are semi new but all i have to do is hit the backspace clear button and it goes away other than that it works great and makes my filing a whole lot easier '}\n",
      "{'star_rating': 4, 'without_extra_space': 'the size is about the same as an iphone its very light too the packaging it comes in is very inspired by apple and comes with a soft pouch case and some connection wires including the ac adapter the instructions are terrible there is not much too them and it really does not give you enough info specifically what the various adapter plugs are for yes there are a few that are obvious like the iphone ipod ipad but there are that i do not know what they would be for there is no adapter included to work with my laptop i have a macbook pro that uses dvi and a smaller netbook pc but it uses a regular hdmi cable that is way too big and the included plugs look like cell phone mini usb s it does come with what appears to be a vga adapter but umm hello its i have not had any laptop or other piece of electronics that has a vga port in years everything is hdmi and hdmi mini i was successful in testing it out on my iphone watching youtube videos but because i have a case on the phone the adapter would not fit properly and would pop out and then the signal would be lost i had to hold the adapter in the iphone to have it work wish is silly the plug that the iphone came with does not have this problem even when the case is on the phone and its one of those thin piece shells i wanted to test it out using my laptop but obviously it cannot be done as this is really made for iphone ipads i ll have to do some research to see if there is a plug that has regular hdmi and the super mini hdmi that fits this unit as for the color it was nice nothing spectacular reminded me of the movie theaters minute projector stuff before the showing starts considering its size the video is actually nice you really need to view it in very low light unless it will be close to the wall and then the screen size will be small but much brighter and vivid the unit does get a bit warm but nothing too hot overall its fun to have but the people who do presentations will get the most out of it its also good for parties to show people friends videos and such that you have on your phone most out of it its also good for parties to show people friends videos and such that you have on your phone '}\n",
      "without_stop_words:\n",
      "{'star_rating': 4, 'without_stop_words': 'bought phone year old uncle amplification fine phone simple simple key word least hear us family calls check'}\n",
      "{'star_rating': 4, 'without_stop_words': 'used one work liked enough buy one home thing get kind annoying give low battery warning batteries semi new hit backspace clear button goes away works great makes filing whole lot easier'}\n",
      "{'star_rating': 4, 'without_stop_words': 'size iphone light packaging comes inspired apple comes soft pouch case connection wires including ac adapter instructions terrible much really give enough info specifically various adapter plugs yes obvious like iphone ipod ipad know would adapter included work laptop macbook pro uses dvi smaller netbook pc uses regular hdmi cable way big included plugs look like cell phone mini usb come appears vga adapter umm hello laptop piece electronics vga port years everything hdmi hdmi mini successful testing iphone watching youtube videos case phone adapter would fit properly would pop signal would lost hold adapter iphone work wish silly plug iphone came problem even case phone one thin piece shells wanted test using laptop obviously done really made iphone ipads research see plug regular hdmi super mini hdmi fits unit color nice nothing spectacular reminded movie theaters minute projector stuff showing starts considering size video actually nice really need view low light unless close wall screen size small much brighter vivid unit get bit warm nothing hot overall fun people presentations get also good parties show people friends videos phone also good parties show people friends videos phone'}\n",
      "without_unlemmed_words:\n",
      "{'star_rating': 4, 'lemmed_reviews': 'bought phone year old uncle amplification fine phone simple simple key word least hear u family call check'}\n",
      "{'star_rating': 4, 'lemmed_reviews': 'used one work liked enough buy one home thing get kind annoying give low battery warning battery semi new hit backspace clear button go away work great make filing whole lot easier'}\n",
      "{'star_rating': 4, 'lemmed_reviews': 'size iphone light packaging come inspired apple come soft pouch case connection wire including ac adapter instruction terrible much really give enough info specifically various adapter plug yes obvious like iphone ipod ipad know would adapter included work laptop macbook pro us dvi smaller netbook pc us regular hdmi cable way big included plug look like cell phone mini usb come appears vga adapter umm hello laptop piece electronics vga port year everything hdmi hdmi mini successful testing iphone watching youtube video case phone adapter would fit properly would pop signal would lost hold adapter iphone work wish silly plug iphone came problem even case phone one thin piece shell wanted test using laptop obviously done really made iphone ipads research see plug regular hdmi super mini hdmi fit unit color nice nothing spectacular reminded movie theater minute projector stuff showing start considering size video actually nice really need view low light unless close wall screen size small much brighter vivid unit get bit warm nothing hot overall fun people presentation get also good party show people friend video phone also good party show people friend video phone'}\n"
     ]
    }
   ],
   "source": [
    "cleaned_reviews_df = preprocess_data(sampled_reviews_ratings_df, 'review_body')"
   ]
  },
  {
   "cell_type": "code",
   "execution_count": 337,
   "metadata": {},
   "outputs": [
    {
     "data": {
      "text/html": [
       "<div>\n",
       "<style scoped>\n",
       "    .dataframe tbody tr th:only-of-type {\n",
       "        vertical-align: middle;\n",
       "    }\n",
       "\n",
       "    .dataframe tbody tr th {\n",
       "        vertical-align: top;\n",
       "    }\n",
       "\n",
       "    .dataframe thead th {\n",
       "        text-align: right;\n",
       "    }\n",
       "</style>\n",
       "<table border=\"1\" class=\"dataframe\">\n",
       "  <thead>\n",
       "    <tr style=\"text-align: right;\">\n",
       "      <th></th>\n",
       "      <th>star_rating</th>\n",
       "      <th>review_body</th>\n",
       "      <th>negative_review_class</th>\n",
       "      <th>neutral_review_class</th>\n",
       "      <th>positive_review_class</th>\n",
       "      <th>binary_review_class</th>\n",
       "      <th>ternary_review_class</th>\n",
       "      <th>lower_cased</th>\n",
       "      <th>without_html_urls</th>\n",
       "      <th>without_contractions</th>\n",
       "      <th>with_alpha_chars_only</th>\n",
       "      <th>without_extra_space</th>\n",
       "      <th>without_stop_words</th>\n",
       "      <th>lemmed_reviews</th>\n",
       "    </tr>\n",
       "  </thead>\n",
       "  <tbody>\n",
       "    <tr>\n",
       "      <th>2528018</th>\n",
       "      <td>4</td>\n",
       "      <td>Bought this phone for my 86 year old uncle. Th...</td>\n",
       "      <td>1.0</td>\n",
       "      <td>NaN</td>\n",
       "      <td>NaN</td>\n",
       "      <td>1.0</td>\n",
       "      <td>1.0</td>\n",
       "      <td>bought this phone for my 86 year old uncle. th...</td>\n",
       "      <td>bought this phone for my 86 year old uncle. th...</td>\n",
       "      <td>bought this phone for my 86 year old uncle. th...</td>\n",
       "      <td>bought this phone for my    year old uncle  th...</td>\n",
       "      <td>bought this phone for my year old uncle the am...</td>\n",
       "      <td>bought phone year old uncle amplification fine...</td>\n",
       "      <td>bought phone year old uncle amplification fine...</td>\n",
       "    </tr>\n",
       "    <tr>\n",
       "      <th>67050</th>\n",
       "      <td>4</td>\n",
       "      <td>I had used one of these at work and liked it e...</td>\n",
       "      <td>1.0</td>\n",
       "      <td>NaN</td>\n",
       "      <td>NaN</td>\n",
       "      <td>1.0</td>\n",
       "      <td>1.0</td>\n",
       "      <td>i had used one of these at work and liked it e...</td>\n",
       "      <td>i had used one of these at work and liked it e...</td>\n",
       "      <td>i had used one of these at work and liked it e...</td>\n",
       "      <td>i had used one of these at work and liked it e...</td>\n",
       "      <td>i had used one of these at work and liked it e...</td>\n",
       "      <td>used one work liked enough buy one home thing ...</td>\n",
       "      <td>used one work liked enough buy one home thing ...</td>\n",
       "    </tr>\n",
       "    <tr>\n",
       "      <th>2309113</th>\n",
       "      <td>4</td>\n",
       "      <td>The size is about the same as an iPhone, its v...</td>\n",
       "      <td>1.0</td>\n",
       "      <td>NaN</td>\n",
       "      <td>NaN</td>\n",
       "      <td>1.0</td>\n",
       "      <td>1.0</td>\n",
       "      <td>the size is about the same as an iphone, its v...</td>\n",
       "      <td>the size is about the same as an iphone, its v...</td>\n",
       "      <td>the size is about the same as an iphone, its v...</td>\n",
       "      <td>the size is about the same as an iphone  its v...</td>\n",
       "      <td>the size is about the same as an iphone its ve...</td>\n",
       "      <td>size iphone light packaging comes inspired app...</td>\n",
       "      <td>size iphone light packaging come inspired appl...</td>\n",
       "    </tr>\n",
       "    <tr>\n",
       "      <th>1081311</th>\n",
       "      <td>4</td>\n",
       "      <td>I have found this stand to be very study for m...</td>\n",
       "      <td>1.0</td>\n",
       "      <td>NaN</td>\n",
       "      <td>NaN</td>\n",
       "      <td>1.0</td>\n",
       "      <td>1.0</td>\n",
       "      <td>i have found this stand to be very study for m...</td>\n",
       "      <td>i have found this stand to be very study for m...</td>\n",
       "      <td>i have found this stand to be very study for m...</td>\n",
       "      <td>i have found this stand to be very study for m...</td>\n",
       "      <td>i have found this stand to be very study for m...</td>\n",
       "      <td>found stand study large dell monitor love stan...</td>\n",
       "      <td>found stand study large dell monitor love stan...</td>\n",
       "    </tr>\n",
       "    <tr>\n",
       "      <th>1413852</th>\n",
       "      <td>4</td>\n",
       "      <td>This was the perfect refill for my printer.  I...</td>\n",
       "      <td>1.0</td>\n",
       "      <td>NaN</td>\n",
       "      <td>NaN</td>\n",
       "      <td>1.0</td>\n",
       "      <td>1.0</td>\n",
       "      <td>this was the perfect refill for my printer.  i...</td>\n",
       "      <td>this was the perfect refill for my printer.  i...</td>\n",
       "      <td>this was the perfect refill for my printer. i ...</td>\n",
       "      <td>this was the perfect refill for my printer  i ...</td>\n",
       "      <td>this was the perfect refill for my printer i h...</td>\n",
       "      <td>perfect refill printer issues certainly better...</td>\n",
       "      <td>perfect refill printer issue certainly better ...</td>\n",
       "    </tr>\n",
       "    <tr>\n",
       "      <th>...</th>\n",
       "      <td>...</td>\n",
       "      <td>...</td>\n",
       "      <td>...</td>\n",
       "      <td>...</td>\n",
       "      <td>...</td>\n",
       "      <td>...</td>\n",
       "      <td>...</td>\n",
       "      <td>...</td>\n",
       "      <td>...</td>\n",
       "      <td>...</td>\n",
       "      <td>...</td>\n",
       "      <td>...</td>\n",
       "      <td>...</td>\n",
       "      <td>...</td>\n",
       "    </tr>\n",
       "    <tr>\n",
       "      <th>1433552</th>\n",
       "      <td>2</td>\n",
       "      <td>Do I return my printer and get a next one, I l...</td>\n",
       "      <td>NaN</td>\n",
       "      <td>NaN</td>\n",
       "      <td>3.0</td>\n",
       "      <td>3.0</td>\n",
       "      <td>3.0</td>\n",
       "      <td>do i return my printer and get a next one, i l...</td>\n",
       "      <td>do i return my printer and get a next one, i l...</td>\n",
       "      <td>do i return my printer and get a next one, i l...</td>\n",
       "      <td>do i return my printer and get a next one  i l...</td>\n",
       "      <td>do i return my printer and get a next one i li...</td>\n",
       "      <td>return printer get next one like printer worki...</td>\n",
       "      <td>return printer get next one like printer worki...</td>\n",
       "    </tr>\n",
       "    <tr>\n",
       "      <th>835203</th>\n",
       "      <td>2</td>\n",
       "      <td>Pretty chicken s*** that it does NOT include N...</td>\n",
       "      <td>NaN</td>\n",
       "      <td>NaN</td>\n",
       "      <td>3.0</td>\n",
       "      <td>3.0</td>\n",
       "      <td>3.0</td>\n",
       "      <td>pretty chicken s*** that it does not include n...</td>\n",
       "      <td>pretty chicken s*** that it does not include n...</td>\n",
       "      <td>pretty chicken s*** that it does not include n...</td>\n",
       "      <td>pretty chicken s    that it does not include n...</td>\n",
       "      <td>pretty chicken s that it does not include nece...</td>\n",
       "      <td>pretty chicken include necessary printer cable...</td>\n",
       "      <td>pretty chicken include necessary printer cable...</td>\n",
       "    </tr>\n",
       "    <tr>\n",
       "      <th>2553531</th>\n",
       "      <td>2</td>\n",
       "      <td>Use army time.When you set the date use the da...</td>\n",
       "      <td>NaN</td>\n",
       "      <td>NaN</td>\n",
       "      <td>3.0</td>\n",
       "      <td>3.0</td>\n",
       "      <td>3.0</td>\n",
       "      <td>use army time.when you set the date use the da...</td>\n",
       "      <td>use army time.when you set the date use the da...</td>\n",
       "      <td>use army time.when you set the date use the da...</td>\n",
       "      <td>use army time when you set the date use the da...</td>\n",
       "      <td>use army time when you set the date use the da...</td>\n",
       "      <td>use army time set date use day month first mon...</td>\n",
       "      <td>use army time set date use day month first mon...</td>\n",
       "    </tr>\n",
       "    <tr>\n",
       "      <th>1015071</th>\n",
       "      <td>2</td>\n",
       "      <td>It gets atleast 2 because of the sound quality...</td>\n",
       "      <td>NaN</td>\n",
       "      <td>NaN</td>\n",
       "      <td>3.0</td>\n",
       "      <td>3.0</td>\n",
       "      <td>3.0</td>\n",
       "      <td>it gets atleast 2 because of the sound quality...</td>\n",
       "      <td>it gets atleast 2 because of the sound quality...</td>\n",
       "      <td>it gets atleast 2 because of the sound quality...</td>\n",
       "      <td>it gets atleast   because of the sound quality...</td>\n",
       "      <td>it gets atleast because of the sound quality t...</td>\n",
       "      <td>gets atleast sound quality quality plastic ban...</td>\n",
       "      <td>get atleast sound quality quality plastic band...</td>\n",
       "    </tr>\n",
       "    <tr>\n",
       "      <th>2502018</th>\n",
       "      <td>2</td>\n",
       "      <td>I went looking for a phone that was comfortabl...</td>\n",
       "      <td>NaN</td>\n",
       "      <td>NaN</td>\n",
       "      <td>3.0</td>\n",
       "      <td>3.0</td>\n",
       "      <td>3.0</td>\n",
       "      <td>i went looking for a phone that was comfortabl...</td>\n",
       "      <td>i went looking for a phone that was comfortabl...</td>\n",
       "      <td>i went looking for a phone that was comfortabl...</td>\n",
       "      <td>i went looking for a phone that was comfortabl...</td>\n",
       "      <td>i went looking for a phone that was comfortabl...</td>\n",
       "      <td>went looking phone comfortable hold one big en...</td>\n",
       "      <td>went looking phone comfortable hold one big en...</td>\n",
       "    </tr>\n",
       "  </tbody>\n",
       "</table>\n",
       "<p>1500 rows × 14 columns</p>\n",
       "</div>"
      ],
      "text/plain": [
       "         star_rating                                        review_body  \\\n",
       "2528018            4  Bought this phone for my 86 year old uncle. Th...   \n",
       "67050              4  I had used one of these at work and liked it e...   \n",
       "2309113            4  The size is about the same as an iPhone, its v...   \n",
       "1081311            4  I have found this stand to be very study for m...   \n",
       "1413852            4  This was the perfect refill for my printer.  I...   \n",
       "...              ...                                                ...   \n",
       "1433552            2  Do I return my printer and get a next one, I l...   \n",
       "835203             2  Pretty chicken s*** that it does NOT include N...   \n",
       "2553531            2  Use army time.When you set the date use the da...   \n",
       "1015071            2  It gets atleast 2 because of the sound quality...   \n",
       "2502018            2  I went looking for a phone that was comfortabl...   \n",
       "\n",
       "         negative_review_class  neutral_review_class  positive_review_class  \\\n",
       "2528018                    1.0                   NaN                    NaN   \n",
       "67050                      1.0                   NaN                    NaN   \n",
       "2309113                    1.0                   NaN                    NaN   \n",
       "1081311                    1.0                   NaN                    NaN   \n",
       "1413852                    1.0                   NaN                    NaN   \n",
       "...                        ...                   ...                    ...   \n",
       "1433552                    NaN                   NaN                    3.0   \n",
       "835203                     NaN                   NaN                    3.0   \n",
       "2553531                    NaN                   NaN                    3.0   \n",
       "1015071                    NaN                   NaN                    3.0   \n",
       "2502018                    NaN                   NaN                    3.0   \n",
       "\n",
       "         binary_review_class  ternary_review_class  \\\n",
       "2528018                  1.0                   1.0   \n",
       "67050                    1.0                   1.0   \n",
       "2309113                  1.0                   1.0   \n",
       "1081311                  1.0                   1.0   \n",
       "1413852                  1.0                   1.0   \n",
       "...                      ...                   ...   \n",
       "1433552                  3.0                   3.0   \n",
       "835203                   3.0                   3.0   \n",
       "2553531                  3.0                   3.0   \n",
       "1015071                  3.0                   3.0   \n",
       "2502018                  3.0                   3.0   \n",
       "\n",
       "                                               lower_cased  \\\n",
       "2528018  bought this phone for my 86 year old uncle. th...   \n",
       "67050    i had used one of these at work and liked it e...   \n",
       "2309113  the size is about the same as an iphone, its v...   \n",
       "1081311  i have found this stand to be very study for m...   \n",
       "1413852  this was the perfect refill for my printer.  i...   \n",
       "...                                                    ...   \n",
       "1433552  do i return my printer and get a next one, i l...   \n",
       "835203   pretty chicken s*** that it does not include n...   \n",
       "2553531  use army time.when you set the date use the da...   \n",
       "1015071  it gets atleast 2 because of the sound quality...   \n",
       "2502018  i went looking for a phone that was comfortabl...   \n",
       "\n",
       "                                         without_html_urls  \\\n",
       "2528018  bought this phone for my 86 year old uncle. th...   \n",
       "67050    i had used one of these at work and liked it e...   \n",
       "2309113  the size is about the same as an iphone, its v...   \n",
       "1081311  i have found this stand to be very study for m...   \n",
       "1413852  this was the perfect refill for my printer.  i...   \n",
       "...                                                    ...   \n",
       "1433552  do i return my printer and get a next one, i l...   \n",
       "835203   pretty chicken s*** that it does not include n...   \n",
       "2553531  use army time.when you set the date use the da...   \n",
       "1015071  it gets atleast 2 because of the sound quality...   \n",
       "2502018  i went looking for a phone that was comfortabl...   \n",
       "\n",
       "                                      without_contractions  \\\n",
       "2528018  bought this phone for my 86 year old uncle. th...   \n",
       "67050    i had used one of these at work and liked it e...   \n",
       "2309113  the size is about the same as an iphone, its v...   \n",
       "1081311  i have found this stand to be very study for m...   \n",
       "1413852  this was the perfect refill for my printer. i ...   \n",
       "...                                                    ...   \n",
       "1433552  do i return my printer and get a next one, i l...   \n",
       "835203   pretty chicken s*** that it does not include n...   \n",
       "2553531  use army time.when you set the date use the da...   \n",
       "1015071  it gets atleast 2 because of the sound quality...   \n",
       "2502018  i went looking for a phone that was comfortabl...   \n",
       "\n",
       "                                     with_alpha_chars_only  \\\n",
       "2528018  bought this phone for my    year old uncle  th...   \n",
       "67050    i had used one of these at work and liked it e...   \n",
       "2309113  the size is about the same as an iphone  its v...   \n",
       "1081311  i have found this stand to be very study for m...   \n",
       "1413852  this was the perfect refill for my printer  i ...   \n",
       "...                                                    ...   \n",
       "1433552  do i return my printer and get a next one  i l...   \n",
       "835203   pretty chicken s    that it does not include n...   \n",
       "2553531  use army time when you set the date use the da...   \n",
       "1015071  it gets atleast   because of the sound quality...   \n",
       "2502018  i went looking for a phone that was comfortabl...   \n",
       "\n",
       "                                       without_extra_space  \\\n",
       "2528018  bought this phone for my year old uncle the am...   \n",
       "67050    i had used one of these at work and liked it e...   \n",
       "2309113  the size is about the same as an iphone its ve...   \n",
       "1081311  i have found this stand to be very study for m...   \n",
       "1413852  this was the perfect refill for my printer i h...   \n",
       "...                                                    ...   \n",
       "1433552  do i return my printer and get a next one i li...   \n",
       "835203   pretty chicken s that it does not include nece...   \n",
       "2553531  use army time when you set the date use the da...   \n",
       "1015071  it gets atleast because of the sound quality t...   \n",
       "2502018  i went looking for a phone that was comfortabl...   \n",
       "\n",
       "                                        without_stop_words  \\\n",
       "2528018  bought phone year old uncle amplification fine...   \n",
       "67050    used one work liked enough buy one home thing ...   \n",
       "2309113  size iphone light packaging comes inspired app...   \n",
       "1081311  found stand study large dell monitor love stan...   \n",
       "1413852  perfect refill printer issues certainly better...   \n",
       "...                                                    ...   \n",
       "1433552  return printer get next one like printer worki...   \n",
       "835203   pretty chicken include necessary printer cable...   \n",
       "2553531  use army time set date use day month first mon...   \n",
       "1015071  gets atleast sound quality quality plastic ban...   \n",
       "2502018  went looking phone comfortable hold one big en...   \n",
       "\n",
       "                                            lemmed_reviews  \n",
       "2528018  bought phone year old uncle amplification fine...  \n",
       "67050    used one work liked enough buy one home thing ...  \n",
       "2309113  size iphone light packaging come inspired appl...  \n",
       "1081311  found stand study large dell monitor love stan...  \n",
       "1413852  perfect refill printer issue certainly better ...  \n",
       "...                                                    ...  \n",
       "1433552  return printer get next one like printer worki...  \n",
       "835203   pretty chicken include necessary printer cable...  \n",
       "2553531  use army time set date use day month first mon...  \n",
       "1015071  get atleast sound quality quality plastic band...  \n",
       "2502018  went looking phone comfortable hold one big en...  \n",
       "\n",
       "[1500 rows x 14 columns]"
      ]
     },
     "execution_count": 337,
     "metadata": {},
     "output_type": "execute_result"
    }
   ],
   "source": [
    "cleaned_reviews_df"
   ]
  },
  {
   "cell_type": "code",
   "execution_count": 338,
   "metadata": {},
   "outputs": [
    {
     "data": {
      "text/plain": [
       "(1200, array([4, 5, 1, 2]))"
      ]
     },
     "execution_count": 338,
     "metadata": {},
     "output_type": "execute_result"
    }
   ],
   "source": [
    "binary_embeddings_df = cleaned_reviews_df.dropna(subset=['binary_review_class'])\n",
    "len(binary_embeddings_df), binary_embeddings_df['star_rating'].unique()"
   ]
  },
  {
   "cell_type": "code",
   "execution_count": null,
   "metadata": {},
   "outputs": [],
   "source": []
  },
  {
   "cell_type": "code",
   "execution_count": 339,
   "metadata": {},
   "outputs": [
    {
     "data": {
      "text/plain": [
       "array([1., 3.])"
      ]
     },
     "execution_count": 339,
     "metadata": {},
     "output_type": "execute_result"
    }
   ],
   "source": [
    "binary_review_class = binary_embeddings_df['binary_review_class']\n",
    "binary_review_class.unique()"
   ]
  },
  {
   "cell_type": "code",
   "execution_count": 340,
   "metadata": {},
   "outputs": [
    {
     "data": {
      "text/html": [
       "<div>\n",
       "<style scoped>\n",
       "    .dataframe tbody tr th:only-of-type {\n",
       "        vertical-align: middle;\n",
       "    }\n",
       "\n",
       "    .dataframe tbody tr th {\n",
       "        vertical-align: top;\n",
       "    }\n",
       "\n",
       "    .dataframe thead th {\n",
       "        text-align: right;\n",
       "    }\n",
       "</style>\n",
       "<table border=\"1\" class=\"dataframe\">\n",
       "  <thead>\n",
       "    <tr style=\"text-align: right;\">\n",
       "      <th></th>\n",
       "      <th>lemmed_reviews</th>\n",
       "    </tr>\n",
       "  </thead>\n",
       "  <tbody>\n",
       "    <tr>\n",
       "      <th>2528018</th>\n",
       "      <td>bought phone year old uncle amplification fine...</td>\n",
       "    </tr>\n",
       "    <tr>\n",
       "      <th>67050</th>\n",
       "      <td>used one work liked enough buy one home thing ...</td>\n",
       "    </tr>\n",
       "    <tr>\n",
       "      <th>2309113</th>\n",
       "      <td>size iphone light packaging come inspired appl...</td>\n",
       "    </tr>\n",
       "    <tr>\n",
       "      <th>1081311</th>\n",
       "      <td>found stand study large dell monitor love stan...</td>\n",
       "    </tr>\n",
       "    <tr>\n",
       "      <th>1413852</th>\n",
       "      <td>perfect refill printer issue certainly better ...</td>\n",
       "    </tr>\n",
       "    <tr>\n",
       "      <th>...</th>\n",
       "      <td>...</td>\n",
       "    </tr>\n",
       "    <tr>\n",
       "      <th>1433552</th>\n",
       "      <td>return printer get next one like printer worki...</td>\n",
       "    </tr>\n",
       "    <tr>\n",
       "      <th>835203</th>\n",
       "      <td>pretty chicken include necessary printer cable...</td>\n",
       "    </tr>\n",
       "    <tr>\n",
       "      <th>2553531</th>\n",
       "      <td>use army time set date use day month first mon...</td>\n",
       "    </tr>\n",
       "    <tr>\n",
       "      <th>1015071</th>\n",
       "      <td>get atleast sound quality quality plastic band...</td>\n",
       "    </tr>\n",
       "    <tr>\n",
       "      <th>2502018</th>\n",
       "      <td>went looking phone comfortable hold one big en...</td>\n",
       "    </tr>\n",
       "  </tbody>\n",
       "</table>\n",
       "<p>1200 rows × 1 columns</p>\n",
       "</div>"
      ],
      "text/plain": [
       "                                            lemmed_reviews\n",
       "2528018  bought phone year old uncle amplification fine...\n",
       "67050    used one work liked enough buy one home thing ...\n",
       "2309113  size iphone light packaging come inspired appl...\n",
       "1081311  found stand study large dell monitor love stan...\n",
       "1413852  perfect refill printer issue certainly better ...\n",
       "...                                                    ...\n",
       "1433552  return printer get next one like printer worki...\n",
       "835203   pretty chicken include necessary printer cable...\n",
       "2553531  use army time set date use day month first mon...\n",
       "1015071  get atleast sound quality quality plastic band...\n",
       "2502018  went looking phone comfortable hold one big en...\n",
       "\n",
       "[1200 rows x 1 columns]"
      ]
     },
     "execution_count": 340,
     "metadata": {},
     "output_type": "execute_result"
    }
   ],
   "source": [
    "binary_text = binary_embeddings_df.loc[:, ['lemmed_reviews']]\n",
    "binary_text"
   ]
  },
  {
   "cell_type": "code",
   "execution_count": 341,
   "metadata": {},
   "outputs": [
    {
     "data": {
      "text/plain": [
       "((960, 1), (240, 1), (960,), (240,))"
      ]
     },
     "execution_count": 341,
     "metadata": {},
     "output_type": "execute_result"
    }
   ],
   "source": [
    "### Train test split so I can have the same train\n",
    "binary_X_train, binary_X_test, binary_y_train, binary_y_test = train_test_split(binary_text, binary_review_class, test_size=0.2, random_state=42)\n",
    "binary_X_train.shape, binary_X_test.shape, binary_y_train.shape, binary_y_test.shape"
   ]
  },
  {
   "cell_type": "code",
   "execution_count": 342,
   "metadata": {},
   "outputs": [
    {
     "data": {
      "text/html": [
       "<div>\n",
       "<style scoped>\n",
       "    .dataframe tbody tr th:only-of-type {\n",
       "        vertical-align: middle;\n",
       "    }\n",
       "\n",
       "    .dataframe tbody tr th {\n",
       "        vertical-align: top;\n",
       "    }\n",
       "\n",
       "    .dataframe thead th {\n",
       "        text-align: right;\n",
       "    }\n",
       "</style>\n",
       "<table border=\"1\" class=\"dataframe\">\n",
       "  <thead>\n",
       "    <tr style=\"text-align: right;\">\n",
       "      <th></th>\n",
       "      <th>lemmed_reviews</th>\n",
       "    </tr>\n",
       "  </thead>\n",
       "  <tbody>\n",
       "    <tr>\n",
       "      <th>936833</th>\n",
       "      <td>know long last I week far good beat price</td>\n",
       "    </tr>\n",
       "    <tr>\n",
       "      <th>2099821</th>\n",
       "      <td>far month problem slipped right actually made ...</td>\n",
       "    </tr>\n",
       "    <tr>\n",
       "      <th>2005400</th>\n",
       "      <td>print excellent picture like kodak printer pro...</td>\n",
       "    </tr>\n",
       "    <tr>\n",
       "      <th>313758</th>\n",
       "      <td>work correctly button make good contact offend...</td>\n",
       "    </tr>\n",
       "    <tr>\n",
       "      <th>2345455</th>\n",
       "      <td>I owned printer day far extremely happy family...</td>\n",
       "    </tr>\n",
       "    <tr>\n",
       "      <th>55679</th>\n",
       "      <td>love tape use weekly seems last forever remove...</td>\n",
       "    </tr>\n",
       "    <tr>\n",
       "      <th>2325152</th>\n",
       "      <td>excited order compatible cartridge right tried...</td>\n",
       "    </tr>\n",
       "  </tbody>\n",
       "</table>\n",
       "</div>"
      ],
      "text/plain": [
       "                                            lemmed_reviews\n",
       "936833           know long last I week far good beat price\n",
       "2099821  far month problem slipped right actually made ...\n",
       "2005400  print excellent picture like kodak printer pro...\n",
       "313758   work correctly button make good contact offend...\n",
       "2345455  I owned printer day far extremely happy family...\n",
       "55679    love tape use weekly seems last forever remove...\n",
       "2325152  excited order compatible cartridge right tried..."
      ]
     },
     "execution_count": 342,
     "metadata": {},
     "output_type": "execute_result"
    }
   ],
   "source": [
    "binary_X_train.head(7)"
   ]
  },
  {
   "cell_type": "markdown",
   "metadata": {},
   "source": [
    "# Extract Word Embeddings"
   ]
  },
  {
   "cell_type": "code",
   "execution_count": 343,
   "metadata": {},
   "outputs": [
    {
     "name": "stderr",
     "output_type": "stream",
     "text": [
      "2024-02-07 12:20:04,877 : INFO : loading projection weights from /Users/brinkley97/gensim-data/word2vec-google-news-300/word2vec-google-news-300.gz\n",
      "2024-02-07 12:20:39,618 : INFO : KeyedVectors lifecycle event {'msg': 'loaded (3000000, 300) matrix of type float32 from /Users/brinkley97/gensim-data/word2vec-google-news-300/word2vec-google-news-300.gz', 'binary': True, 'encoding': 'utf8', 'datetime': '2024-02-07T12:20:39.618667', 'gensim': '4.3.2', 'python': '3.11.4 (main, Jul 25 2023, 17:07:07) [Clang 14.0.3 (clang-1403.0.22.14.1)]', 'platform': 'macOS-13.6.3-x86_64-i386-64bit', 'event': 'load_word2vec_format'}\n"
     ]
    }
   ],
   "source": [
    "import logging\n",
    "logging.basicConfig(format='%(asctime)s : %(levelname)s : %(message)s', level=logging.INFO)\n",
    "\n",
    "import gensim.downloader as api\n",
    "pretrained_word_two_vec_model = api.load('word2vec-google-news-300')"
   ]
  },
  {
   "cell_type": "markdown",
   "metadata": {},
   "source": [
    "## My Model"
   ]
  },
  {
   "cell_type": "code",
   "execution_count": 344,
   "metadata": {},
   "outputs": [],
   "source": [
    "from gensim.test.utils import datapath\n",
    "from gensim import utils\n",
    "\n",
    "class MyCorpus:\n",
    "    \"\"\"An iterator that yields sentences (lists of str).\"\"\"\n",
    "\n",
    "    def __init__(self, df: pd.DataFrame, col_name: str):\n",
    "        self.df = df\n",
    "        self.col_name = col_name\n",
    "\n",
    "    def __iter__(self):\n",
    "        \"\"\"\n",
    "\n",
    "        Parameters\n",
    "        ----------\n",
    "        df: `pd.DataFrame`\n",
    "            The data\n",
    "        \n",
    "        col_name: `str`\n",
    "            Column with reviews\n",
    "\n",
    "        words_in_model: `list`\n",
    "            Words in Word2Vec model\n",
    "\n",
    "        Return\n",
    "        ------\n",
    "        \n",
    "        \"\"\"\n",
    "\n",
    "        text_reviews = self.df[self.col_name].values\n",
    "\n",
    "        for text_reviews_idx in range(len(text_reviews)):\n",
    "            text_review = text_reviews[text_reviews_idx]\n",
    "            # print(text_reviews_idx, \"--\", text_review)\n",
    "\n",
    "            yield utils.simple_preprocess(text_review)\n",
    "        "
   ]
  },
  {
   "cell_type": "code",
   "execution_count": 347,
   "metadata": {},
   "outputs": [
    {
     "name": "stderr",
     "output_type": "stream",
     "text": [
      "2024-02-07 12:21:17,505 : INFO : collecting all words and their counts\n",
      "2024-02-07 12:21:17,506 : INFO : PROGRESS: at sentence #0, processed 0 words, keeping 0 word types\n",
      "2024-02-07 12:21:17,549 : INFO : collected 4423 word types from a corpus of 27478 raw words and 960 sentences\n",
      "2024-02-07 12:21:17,549 : INFO : Creating a fresh vocabulary\n",
      "2024-02-07 12:21:17,552 : INFO : Word2Vec lifecycle event {'msg': 'effective_min_count=10 retains 600 unique words (13.57% of original 4423, drops 3823)', 'datetime': '2024-02-07T12:21:17.552062', 'gensim': '4.3.2', 'python': '3.11.4 (main, Jul 25 2023, 17:07:07) [Clang 14.0.3 (clang-1403.0.22.14.1)]', 'platform': 'macOS-13.6.3-x86_64-i386-64bit', 'event': 'prepare_vocab'}\n",
      "2024-02-07 12:21:17,552 : INFO : Word2Vec lifecycle event {'msg': 'effective_min_count=10 leaves 18730 word corpus (68.16% of original 27478, drops 8748)', 'datetime': '2024-02-07T12:21:17.552739', 'gensim': '4.3.2', 'python': '3.11.4 (main, Jul 25 2023, 17:07:07) [Clang 14.0.3 (clang-1403.0.22.14.1)]', 'platform': 'macOS-13.6.3-x86_64-i386-64bit', 'event': 'prepare_vocab'}\n",
      "2024-02-07 12:21:17,555 : INFO : deleting the raw counts dictionary of 4423 items\n",
      "2024-02-07 12:21:17,556 : INFO : sample=0.001 downsamples 81 most-common words\n",
      "2024-02-07 12:21:17,556 : INFO : Word2Vec lifecycle event {'msg': 'downsampling leaves estimated 15539.58256662991 word corpus (83.0%% of prior 18730)', 'datetime': '2024-02-07T12:21:17.556964', 'gensim': '4.3.2', 'python': '3.11.4 (main, Jul 25 2023, 17:07:07) [Clang 14.0.3 (clang-1403.0.22.14.1)]', 'platform': 'macOS-13.6.3-x86_64-i386-64bit', 'event': 'prepare_vocab'}\n",
      "2024-02-07 12:21:17,561 : INFO : estimated required memory for 600 words and 300 dimensions: 1740000 bytes\n",
      "2024-02-07 12:21:17,561 : INFO : resetting layer weights\n",
      "2024-02-07 12:21:17,563 : INFO : Word2Vec lifecycle event {'update': False, 'trim_rule': 'None', 'datetime': '2024-02-07T12:21:17.563432', 'gensim': '4.3.2', 'python': '3.11.4 (main, Jul 25 2023, 17:07:07) [Clang 14.0.3 (clang-1403.0.22.14.1)]', 'platform': 'macOS-13.6.3-x86_64-i386-64bit', 'event': 'build_vocab'}\n",
      "2024-02-07 12:21:17,563 : INFO : Word2Vec lifecycle event {'msg': 'training model with 3 workers on 600 vocabulary and 300 features, using sg=0 hs=0 sample=0.001 negative=5 window=11 shrink_windows=True', 'datetime': '2024-02-07T12:21:17.563915', 'gensim': '4.3.2', 'python': '3.11.4 (main, Jul 25 2023, 17:07:07) [Clang 14.0.3 (clang-1403.0.22.14.1)]', 'platform': 'macOS-13.6.3-x86_64-i386-64bit', 'event': 'train'}\n",
      "2024-02-07 12:21:17,652 : INFO : EPOCH 0: training on 27478 raw words (15466 effective words) took 0.1s, 188656 effective words/s\n",
      "2024-02-07 12:21:17,701 : INFO : EPOCH 1: training on 27478 raw words (15569 effective words) took 0.0s, 419431 effective words/s\n",
      "2024-02-07 12:21:17,752 : INFO : EPOCH 2: training on 27478 raw words (15543 effective words) took 0.0s, 361783 effective words/s\n",
      "2024-02-07 12:21:17,804 : INFO : EPOCH 3: training on 27478 raw words (15594 effective words) took 0.0s, 350786 effective words/s\n",
      "2024-02-07 12:21:17,855 : INFO : EPOCH 4: training on 27478 raw words (15508 effective words) took 0.0s, 355716 effective words/s\n",
      "2024-02-07 12:21:17,856 : INFO : Word2Vec lifecycle event {'msg': 'training on 137390 raw words (77680 effective words) took 0.3s, 265562 effective words/s', 'datetime': '2024-02-07T12:21:17.856870', 'gensim': '4.3.2', 'python': '3.11.4 (main, Jul 25 2023, 17:07:07) [Clang 14.0.3 (clang-1403.0.22.14.1)]', 'platform': 'macOS-13.6.3-x86_64-i386-64bit', 'event': 'train'}\n",
      "2024-02-07 12:21:17,857 : INFO : Word2Vec lifecycle event {'params': 'Word2Vec<vocab=600, vector_size=300, alpha=0.025>', 'datetime': '2024-02-07T12:21:17.857537', 'gensim': '4.3.2', 'python': '3.11.4 (main, Jul 25 2023, 17:07:07) [Clang 14.0.3 (clang-1403.0.22.14.1)]', 'platform': 'macOS-13.6.3-x86_64-i386-64bit', 'event': 'created'}\n"
     ]
    }
   ],
   "source": [
    "import gensim.models\n",
    "\n",
    "# X train\n",
    "binary_X_train_sentences = MyCorpus(binary_X_train, 'lemmed_reviews')\n",
    "# sentences = MyCorpus(sampled_reviews_ratings_df, 'review_body')\n",
    "# print(\"\\nSentences\", binary_X_train_sentences)\n",
    "my_binary_X_train_model = gensim.models.Word2Vec(sentences=binary_X_train_sentences, vector_size=300, window=11, min_count=10)\n",
    "\n",
    "# X test - get embeddings from my_binary_X_train_model -- vec_king = my_binary_X_train_model.wv['king']\n",
    "# binary_X_test_sentences = MyCorpus(binary_X_test, 'lemmed_reviews')\n",
    "# sentences = MyCorpus(sampled_reviews_ratings_df, 'review_body')\n",
    "# print(\"\\nSentences\", binary_X_test_sentences)\n",
    "\n",
    "# Terneary Case\n",
    "\n"
   ]
  },
  {
   "cell_type": "markdown",
   "metadata": {},
   "source": [
    "### Similar scores\n",
    "\n",
    "[ ] Write summary of differences between their model and my model"
   ]
  },
  {
   "cell_type": "markdown",
   "metadata": {},
   "source": [
    "### PRetrained"
   ]
  },
  {
   "cell_type": "code",
   "execution_count": null,
   "metadata": {},
   "outputs": [],
   "source": [
    "my_pretrained_binary_X_train_model = my_binary_X_train_model.wv\n",
    "my_pretrained_binary_X_train_model"
   ]
  },
  {
   "cell_type": "code",
   "execution_count": 346,
   "metadata": {},
   "outputs": [
    {
     "name": "stdout",
     "output_type": "stream",
     "text": [
      "[('queen', 0.7118193507194519)]\n",
      "[('daughter', 0.02274164743721485), ('pack', 0.020964179188013077), ('terrible', 0.020802440121769905), ('caller', 0.020002959296107292), ('larger', 0.019834857434034348), ('useless', 0.019533362239599228), ('loud', 0.019526176154613495), ('paying', 0.01949603110551834), ('luck', 0.019292298704385757), ('internet', 0.019116980955004692)]\n"
     ]
    }
   ],
   "source": [
    "# TODO: Fix with proper exs\n",
    "\n",
    "result = pretrained_word_two_vec_model.most_similar(positive=['woman', 'king'], negative=['man'], topn=1)\n",
    "print(result)\n",
    "\n",
    "my_result = my_pretrained_binary_X_train_model.most_similar(positive=['started', 'even'], negative=['plus', 'toner'], topn=10)\n",
    "print(my_result)\n"
   ]
  },
  {
   "cell_type": "markdown",
   "metadata": {},
   "source": [
    "### Our model"
   ]
  },
  {
   "cell_type": "code",
   "execution_count": 348,
   "metadata": {},
   "outputs": [],
   "source": [
    "def word_embeddings(df: pd.DataFrame, col_name: str, model_to_use):\n",
    "    \"\"\"Extract word embeddings\n",
    "\n",
    "    Parameters\n",
    "    ----------\n",
    "    df: `pd.DataFrame`\n",
    "        The data\n",
    "    \n",
    "    col_name: `str`\n",
    "        Column with reviews\n",
    "\n",
    "    model_to_use:\n",
    "        Either the pretrained model or my pretrained model\n",
    "\n",
    "    Return\n",
    "    ------\n",
    "    \n",
    "    \"\"\"\n",
    "\n",
    "    sentence_vectorized = []\n",
    "    mean_sentences_vectorized = []\n",
    "    sentences = df[col_name].values\n",
    "\n",
    "    for sentences_idx in range(len(sentences)):\n",
    "        vectorized_words = []\n",
    "        sentence = sentences[sentences_idx]\n",
    "        # print(\"Sentence\", sentences_idx)\n",
    "        # print(\"Sentence\", sentences_idx, \"Pre-vectorized -- \", sentence)\n",
    "        for word in sentence.split(\" \"):\n",
    "            if word in model_to_use.key_to_index:\n",
    "                vector_of_word = model_to_use[word]\n",
    "                vectorized_words.append(vector_of_word)\n",
    "                # print(\"--->\", word, \"is in model with vector lenght of\", len(vector_of_word))\n",
    "            else:\n",
    "                vector_of_word = np.random.rand(model_to_use.vector_size)\n",
    "                vectorized_words.append(vector_of_word)\n",
    "                \n",
    "        sentence_vectorized.append(vectorized_words)\n",
    "        # print(\"Sentence\", sentences_idx, \"Post-vectorized \\n\")\n",
    "\n",
    "        mean_of_sentence = np.mean(sentence_vectorized[sentences_idx], axis=0)\n",
    "        # print(len(mean_of_sentence), mean_of_sentence)\n",
    "        mean_sentences_vectorized.append(mean_of_sentence)\n",
    "\n",
    "\n",
    "    return mean_sentences_vectorized"
   ]
  },
  {
   "cell_type": "code",
   "execution_count": 349,
   "metadata": {},
   "outputs": [
    {
     "data": {
      "text/html": [
       "<div>\n",
       "<style scoped>\n",
       "    .dataframe tbody tr th:only-of-type {\n",
       "        vertical-align: middle;\n",
       "    }\n",
       "\n",
       "    .dataframe tbody tr th {\n",
       "        vertical-align: top;\n",
       "    }\n",
       "\n",
       "    .dataframe thead th {\n",
       "        text-align: right;\n",
       "    }\n",
       "</style>\n",
       "<table border=\"1\" class=\"dataframe\">\n",
       "  <thead>\n",
       "    <tr style=\"text-align: right;\">\n",
       "      <th></th>\n",
       "      <th>lemmed_reviews</th>\n",
       "    </tr>\n",
       "  </thead>\n",
       "  <tbody>\n",
       "    <tr>\n",
       "      <th>936833</th>\n",
       "      <td>know long last I week far good beat price</td>\n",
       "    </tr>\n",
       "    <tr>\n",
       "      <th>2099821</th>\n",
       "      <td>far month problem slipped right actually made ...</td>\n",
       "    </tr>\n",
       "    <tr>\n",
       "      <th>2005400</th>\n",
       "      <td>print excellent picture like kodak printer pro...</td>\n",
       "    </tr>\n",
       "    <tr>\n",
       "      <th>313758</th>\n",
       "      <td>work correctly button make good contact offend...</td>\n",
       "    </tr>\n",
       "    <tr>\n",
       "      <th>2345455</th>\n",
       "      <td>I owned printer day far extremely happy family...</td>\n",
       "    </tr>\n",
       "    <tr>\n",
       "      <th>...</th>\n",
       "      <td>...</td>\n",
       "    </tr>\n",
       "    <tr>\n",
       "      <th>1801078</th>\n",
       "      <td>think fault really read see start july year st...</td>\n",
       "    </tr>\n",
       "    <tr>\n",
       "      <th>730657</th>\n",
       "      <td>love idea picture however really disappointing...</td>\n",
       "    </tr>\n",
       "    <tr>\n",
       "      <th>2361758</th>\n",
       "      <td>basic functionality needed phone construction ...</td>\n",
       "    </tr>\n",
       "    <tr>\n",
       "      <th>819301</th>\n",
       "      <td>ink splotch feather every paper try besides bl...</td>\n",
       "    </tr>\n",
       "    <tr>\n",
       "      <th>2154773</th>\n",
       "      <td>dissapointed received really thought going get...</td>\n",
       "    </tr>\n",
       "  </tbody>\n",
       "</table>\n",
       "<p>960 rows × 1 columns</p>\n",
       "</div>"
      ],
      "text/plain": [
       "                                            lemmed_reviews\n",
       "936833           know long last I week far good beat price\n",
       "2099821  far month problem slipped right actually made ...\n",
       "2005400  print excellent picture like kodak printer pro...\n",
       "313758   work correctly button make good contact offend...\n",
       "2345455  I owned printer day far extremely happy family...\n",
       "...                                                    ...\n",
       "1801078  think fault really read see start july year st...\n",
       "730657   love idea picture however really disappointing...\n",
       "2361758  basic functionality needed phone construction ...\n",
       "819301   ink splotch feather every paper try besides bl...\n",
       "2154773  dissapointed received really thought going get...\n",
       "\n",
       "[960 rows x 1 columns]"
      ]
     },
     "execution_count": 349,
     "metadata": {},
     "output_type": "execute_result"
    }
   ],
   "source": [
    "binary_X_train"
   ]
  },
  {
   "cell_type": "code",
   "execution_count": 365,
   "metadata": {},
   "outputs": [
    {
     "name": "stdout",
     "output_type": "stream",
     "text": [
      "Pretrained Train\n",
      "Pretrained Test\n"
     ]
    }
   ],
   "source": [
    "print(\"Pretrained Train\")\n",
    "pretrained_binary_train_embeddings = word_embeddings(binary_X_train, 'lemmed_reviews', pretrained_word_two_vec_model)\n",
    "\n",
    "print(\"Pretrained Test\")\n",
    "pretrained_binary_test_embeddings = word_embeddings(binary_X_test, 'lemmed_reviews', pretrained_word_two_vec_model)"
   ]
  },
  {
   "cell_type": "code",
   "execution_count": 366,
   "metadata": {},
   "outputs": [
    {
     "data": {
      "text/plain": [
       "((960, 300), (240, 300))"
      ]
     },
     "execution_count": 366,
     "metadata": {},
     "output_type": "execute_result"
    }
   ],
   "source": [
    "pretrained_binary_train_embeddings = np.array(pretrained_binary_train_embeddings)\n",
    "pretrained_binary_test_embeddings = np.array(pretrained_binary_test_embeddings)\n",
    "\n",
    "pretrained_binary_train_embeddings.shape, pretrained_binary_test_embeddings.shape\n"
   ]
  },
  {
   "cell_type": "code",
   "execution_count": 367,
   "metadata": {},
   "outputs": [
    {
     "name": "stdout",
     "output_type": "stream",
     "text": [
      "My-pretrained Train\n",
      "My-pretrained Test\n"
     ]
    }
   ],
   "source": [
    "print(\"My-pretrained Train\")\n",
    "my_binary_train_embeddings = word_embeddings(binary_X_train, 'lemmed_reviews', my_pretrained_binary_X_train_model)\n",
    "\n",
    "print(\"My-pretrained Test\")\n",
    "my_binary_test_embeddings = word_embeddings(binary_X_test, 'lemmed_reviews', my_pretrained_binary_X_train_model)"
   ]
  },
  {
   "cell_type": "code",
   "execution_count": 368,
   "metadata": {},
   "outputs": [
    {
     "data": {
      "text/plain": [
       "((960, 300), (240, 300))"
      ]
     },
     "execution_count": 368,
     "metadata": {},
     "output_type": "execute_result"
    }
   ],
   "source": [
    "my_binary_train_embeddings = np.array(my_binary_train_embeddings)\n",
    "my_binary_test_embeddings = np.array(my_binary_test_embeddings)\n",
    "\n",
    "my_binary_train_embeddings.shape, my_binary_test_embeddings.shape"
   ]
  },
  {
   "cell_type": "code",
   "execution_count": 369,
   "metadata": {},
   "outputs": [],
   "source": [
    "# # embeddings_df = lemmed_df.iloc[:, [5, 1, 12]]\n",
    "# embeddings_df = binary_embeddings_df\n",
    "# embeddings_df['pretrained_embeddings'] = pretrained_embeddings\n",
    "# embeddings_df['my_embeddings'] = my_embeddings\n",
    "# embeddings_df.head(7)"
   ]
  },
  {
   "cell_type": "code",
   "execution_count": 370,
   "metadata": {},
   "outputs": [],
   "source": [
    "def tf_idf_feature_extraction(df: pd.DataFrame, col_name: str):\n",
    "    \"\"\"Extract the TF-IDF features from the reviews.\n",
    "\n",
    "    Parameters\n",
    "    ----------\n",
    "    df: `pd.DataFrame`\n",
    "        The data\n",
    "    \n",
    "    col_name: `str`\n",
    "        Column with reviews\n",
    "\n",
    "    Return\n",
    "    ------\n",
    "    tf_idf_features:\n",
    "        A matrix containing the TF-IDF features extracted\n",
    "        \n",
    "    \"\"\"\n",
    "    \n",
    "    vectorizer = TfidfVectorizer()\n",
    "    tf_idf_features = vectorizer.fit_transform(df[col_name])\n",
    "\n",
    "    return tf_idf_features"
   ]
  },
  {
   "cell_type": "code",
   "execution_count": 371,
   "metadata": {},
   "outputs": [],
   "source": [
    "# tf_idf_features = tf_idf_feature_extraction(lemmed_df, 'lemmed_reviews')\n"
   ]
  },
  {
   "cell_type": "code",
   "execution_count": 372,
   "metadata": {},
   "outputs": [],
   "source": [
    "# tf_idf_features"
   ]
  },
  {
   "cell_type": "markdown",
   "metadata": {},
   "source": [
    "## Simple models"
   ]
  },
  {
   "cell_type": "markdown",
   "metadata": {},
   "source": [
    "# Models + Evaluation Metrics"
   ]
  },
  {
   "cell_type": "code",
   "execution_count": 374,
   "metadata": {},
   "outputs": [],
   "source": [
    "def eval_accuracy(y_true, y_prediction):\n",
    "    return sklearn.metrics.accuracy_score(y_true, y_prediction)\n",
    "\n",
    "def eval_precision(y_true, y_prediction):\n",
    "    return sklearn.metrics.precision_score(y_true, y_prediction)\n",
    "\n",
    "def eval_recall(y_true, y_prediction):\n",
    "    return sklearn.metrics.recall_score(y_true, y_prediction)\n",
    "\n",
    "def eval_f1_score(y_true, y_prediction):\n",
    "    return sklearn.metrics.f1_score(y_true, y_prediction)"
   ]
  },
  {
   "cell_type": "code",
   "execution_count": 360,
   "metadata": {},
   "outputs": [],
   "source": [
    "def train_eval_metric(y_train_true, y_train_predictions):\n",
    "    accuracy = eval_accuracy(y_train_true, y_train_predictions)\n",
    "    # precision = eval_precision(y_train_true, y_train_predictions)\n",
    "    # recall = eval_recall(y_train_true, y_train_predictions)\n",
    "    # f1 = eval_f1_score(y_train_true, y_train_predictions)\n",
    "\n",
    "    metrics_dict = {\n",
    "        'Accuracy': accuracy,\n",
    "        # 'Precision': precision,\n",
    "        # 'Recall': recall,\n",
    "        # 'F1 Score': f1\n",
    "    }\n",
    "\n",
    "    return metrics_dict\n",
    "\n",
    "def test_eval_metric(y_test_true, y_test_predictions):\n",
    "    accuracy = eval_accuracy(y_test_true, y_test_predictions)\n",
    "    # precision = eval_precision(y_test_true, y_test_predictions)\n",
    "    # recall = eval_recall(y_test_true, y_test_predictions)\n",
    "    # f1 = eval_f1_score(y_test_true, y_test_predictions)\n",
    "\n",
    "    metrics_dict = {\n",
    "        'Accuracy': accuracy,\n",
    "        # 'Precision': precision,\n",
    "        # 'Recall': recall,\n",
    "        # 'F1 Score': f1\n",
    "    }\n",
    "\n",
    "    return metrics_dict"
   ]
  },
  {
   "cell_type": "markdown",
   "metadata": {},
   "source": [
    "# Perceptron"
   ]
  },
  {
   "cell_type": "code",
   "execution_count": 375,
   "metadata": {},
   "outputs": [],
   "source": [
    "def perceptron_model(X_train, X_test, y_train, y_test): \n",
    "\n",
    "    technique = Perceptron(tol=1e-3, random_state=0)\n",
    "    technique.fit(X_train, y_train)\n",
    "    y_train_predictions = technique.predict(X_train)\n",
    "    y_test_predictions = technique.predict(X_test)\n",
    "\n",
    "\n",
    "    train_metrics = train_eval_metric(y_train, y_train_predictions)\n",
    "    test_metrics = test_eval_metric(y_test, y_test_predictions)\n",
    "\n",
    "    return train_metrics, test_metrics\n"
   ]
  },
  {
   "cell_type": "code",
   "execution_count": 376,
   "metadata": {},
   "outputs": [
    {
     "data": {
      "text/plain": [
       "((960, 300), (240, 300), (960,), (240,))"
      ]
     },
     "execution_count": 376,
     "metadata": {},
     "output_type": "execute_result"
    }
   ],
   "source": [
    "my_binary_train_embeddings.shape, my_binary_test_embeddings.shape, binary_y_train.shape, binary_y_test.shape"
   ]
  },
  {
   "cell_type": "code",
   "execution_count": 382,
   "metadata": {},
   "outputs": [],
   "source": [
    "# Pretrained model\n",
    "perceptron_train_metrics, perceptron_test_metrics = perceptron_model(pretrained_binary_train_embeddings, pretrained_binary_test_embeddings, binary_y_train, binary_y_test)"
   ]
  },
  {
   "cell_type": "code",
   "execution_count": 383,
   "metadata": {},
   "outputs": [
    {
     "data": {
      "text/plain": [
       "({'Accuracy': 0.771875}, {'Accuracy': 0.6666666666666666})"
      ]
     },
     "execution_count": 383,
     "metadata": {},
     "output_type": "execute_result"
    }
   ],
   "source": [
    "perceptron_train_metrics, perceptron_test_metrics"
   ]
  },
  {
   "cell_type": "code",
   "execution_count": 384,
   "metadata": {},
   "outputs": [],
   "source": [
    "# My model\n",
    "my_perceptron_train_metrics, my_perceptron_test_metrics = perceptron_model(my_binary_train_embeddings, my_binary_test_embeddings, binary_y_train, binary_y_test)\n",
    " "
   ]
  },
  {
   "cell_type": "code",
   "execution_count": 385,
   "metadata": {},
   "outputs": [
    {
     "data": {
      "text/plain": [
       "({'Accuracy': 0.571875}, {'Accuracy': 0.48333333333333334})"
      ]
     },
     "execution_count": 385,
     "metadata": {},
     "output_type": "execute_result"
    }
   ],
   "source": [
    "my_perceptron_train_metrics, my_perceptron_test_metrics"
   ]
  },
  {
   "cell_type": "markdown",
   "metadata": {},
   "source": [
    "# SVM"
   ]
  },
  {
   "cell_type": "code",
   "execution_count": null,
   "metadata": {},
   "outputs": [],
   "source": [
    "def svm_model(X_train, X_test, y_train, y_test): \n",
    "\n",
    "    technique = LinearSVC(tol=1e-3, random_state=0)\n",
    "    technique.fit(X_train, y_train)\n",
    "    y_train_predictions = technique.predict(X_train)\n",
    "    y_test_predictions = technique.predict(X_test)\n",
    "\n",
    "\n",
    "    train_metrics = train_eval_metric(y_train, y_train_predictions)\n",
    "    test_metrics = test_eval_metric(y_test, y_test_predictions)\n",
    "\n",
    "    return train_metrics, test_metrics\n"
   ]
  },
  {
   "cell_type": "code",
   "execution_count": 386,
   "metadata": {},
   "outputs": [
    {
     "name": "stderr",
     "output_type": "stream",
     "text": [
      "/usr/local/lib/python3.11/site-packages/sklearn/svm/_classes.py:31: FutureWarning: The default value of `dual` will change from `True` to `'auto'` in 1.5. Set the value of `dual` explicitly to suppress the warning.\n",
      "  warnings.warn(\n"
     ]
    }
   ],
   "source": [
    "svm_train_metrics, svm_test_metrics = svm_model(pretrained_binary_train_embeddings, pretrained_binary_test_embeddings, binary_y_train, binary_y_test)"
   ]
  },
  {
   "cell_type": "code",
   "execution_count": 387,
   "metadata": {},
   "outputs": [
    {
     "data": {
      "text/plain": [
       "({'Accuracy': 0.8666666666666667}, {'Accuracy': 0.7875})"
      ]
     },
     "execution_count": 387,
     "metadata": {},
     "output_type": "execute_result"
    }
   ],
   "source": [
    "svm_train_metrics, svm_test_metrics"
   ]
  },
  {
   "cell_type": "code",
   "execution_count": 388,
   "metadata": {},
   "outputs": [
    {
     "name": "stderr",
     "output_type": "stream",
     "text": [
      "/usr/local/lib/python3.11/site-packages/sklearn/svm/_classes.py:31: FutureWarning: The default value of `dual` will change from `True` to `'auto'` in 1.5. Set the value of `dual` explicitly to suppress the warning.\n",
      "  warnings.warn(\n"
     ]
    }
   ],
   "source": [
    "my_svm_train_metrics, my_svm_test_metrics = svm_model(my_binary_train_embeddings, my_binary_test_embeddings, binary_y_train, binary_y_test)"
   ]
  },
  {
   "cell_type": "code",
   "execution_count": 389,
   "metadata": {},
   "outputs": [
    {
     "data": {
      "text/plain": [
       "({'Accuracy': 0.7395833333333334}, {'Accuracy': 0.5708333333333333})"
      ]
     },
     "execution_count": 389,
     "metadata": {},
     "output_type": "execute_result"
    }
   ],
   "source": [
    "my_svm_train_metrics, my_svm_test_metrics"
   ]
  },
  {
   "cell_type": "markdown",
   "metadata": {},
   "source": [
    "## What do I conclude from comparing performances"
   ]
  },
  {
   "cell_type": "code",
   "execution_count": null,
   "metadata": {},
   "outputs": [],
   "source": []
  },
  {
   "cell_type": "markdown",
   "metadata": {},
   "source": [
    "## Feedforward Neural Network\n",
    "- MLP for sentiment analysis classification\n",
    "- 2 hidden layers each with 50 and 10 nodes, respectively\n",
    "- Cross entropy loss\n",
    "- I decide other hyperparameters (ie: nonlinearity, #epochs, etc)"
   ]
  },
  {
   "cell_type": "code",
   "execution_count": null,
   "metadata": {},
   "outputs": [],
   "source": [
    "pretrained_embeddings.shape, my_embeddings.shape"
   ]
  },
  {
   "cell_type": "markdown",
   "metadata": {},
   "source": [
    "### Binary Classification"
   ]
  },
  {
   "cell_type": "code",
   "execution_count": null,
   "metadata": {},
   "outputs": [],
   "source": [
    "binary_review_class = binary_embeddings_df['binary_review_class']\n",
    "binary_review_class.unique()"
   ]
  },
  {
   "cell_type": "code",
   "execution_count": null,
   "metadata": {},
   "outputs": [],
   "source": [
    "import torch\n",
    "\n",
    "import numpy as np\n",
    "import torch.nn as nn\n",
    "import torch.nn.functional as F\n",
    "\n",
    "class Net(nn.Module):\n",
    "    \"\"\"Define the NN architecture\"\"\"\n",
    "\n",
    "    def __init__(self, hidden_1: int, hidden_2: int, height: int, width: int, dropout_rate: float, output_classes: int):\n",
    "        super(Net, self).__init__()\n",
    "\n",
    "        self.height = heightght = height\n",
    "        self.width = width\n",
    "        # linear layer (1200 x 300 dot 300 x 50 -> 1200 x 50)\n",
    "        self.fc1 = nn.Linear(300, 50)\n",
    "        # linear layer (1200 x 50 dot 50 x 10 -> 1200 x 10)\n",
    "        self.fc2 = nn.Linear(50, 10)\n",
    "        # linear layer (1200 x 50 dot 50 x 10 -> 1200 x 10)\n",
    "        self.fc3 = nn.Linear(10, 2) # change to 3 for ternery\n",
    "        # dropout to prevent overfitting\n",
    "        self.dropout = nn.Dropout(dropout_rate)\n",
    "        \n",
    "    def forward(self, x):\n",
    "        \n",
    "        # add hidden layer, with relu activation function, dropout, relu, dropout, output\n",
    "        x = F.relu(self.fc1(x))\n",
    "        x = self.dropout(x)\n",
    "        x = F.relu(self.fc2(x))\n",
    "        x = self.dropout(x)\n",
    "        x = self.fc3(x)\n",
    "\n",
    "        return x\n",
    "    \n",
    "    def train_network(self, number_of_epochs: int, optimizer, criterion_function, train_loader, valid_loader):\n",
    "        # set initial \"min\" to infinity\n",
    "        valid_loss_min = np.Inf\n",
    "\n",
    "        for epoch in range(number_of_epochs):\n",
    "            train_loss = 0.0\n",
    "            valid_loss = 0.0\n",
    "\n",
    "            ###################\n",
    "            # train the model #\n",
    "            ###################\n",
    "            self.train() # prep model for training\n",
    "            for data, target in train_loader:\n",
    "                # clear the gradients of all optimized variables\n",
    "                optimizer.zero_grad()\n",
    "                # forward pass to compute predictions, loss, backward pass to compute gradient wrt model params\n",
    "                output = self(data)\n",
    "                loss = criterion_function(output, target)\n",
    "                loss.backward()\n",
    "                optimizer.step()\n",
    "                # update running training loss\n",
    "                train_loss += loss.item() * data.size(0)\n",
    "            \n",
    "            ######################    \n",
    "            # validate the model #\n",
    "            ######################\n",
    "            self.eval() # prep model for evaluation\n",
    "            for data, target in valid_loader:\n",
    "                # forward pass to compute predictions, loss, update running validation loss\n",
    "                output = self(data)\n",
    "                loss = criterion_function(output, target)\n",
    "                valid_loss += loss.item() * data.size(0)\n",
    "            \n",
    "            # print training/validation statistics \n",
    "            # calculate average loss over an epoch\n",
    "            train_loss = train_loss / len(train_loader.dataset)\n",
    "            valid_loss = valid_loss / len(valid_loader.dataset)\n",
    "            \n",
    "            print('Epoch: {} \\tTraining Loss: {:.6f} \\tValidation Loss: {:.6f}'.format(\n",
    "                epoch+1, \n",
    "                train_loss,\n",
    "                valid_loss\n",
    "                ))\n",
    "            \n",
    "            # save model if validation loss has decreased\n",
    "            if valid_loss <= valid_loss_min:\n",
    "                print('Validation loss decreased ({:.6f} --> {:.6f}).  Saving model ...'.format(\n",
    "                valid_loss_min,\n",
    "                valid_loss))\n",
    "                torch.save(self.state_dict(), 'nn_model.pt')\n",
    "                valid_loss_min = valid_loss\n",
    "\n",
    "    def predict(self, data_loader):\n",
    "        prediction_list = []\n",
    "        for i, batch in enumerate(data_loader):\n",
    "            outputs = self(batch)    \n",
    "            _, predicted = torch.max(outputs.data, 1)\n",
    "            prediction_list.append(predicted.cpu())\n",
    "        \n",
    "        return prediction_list"
   ]
  },
  {
   "cell_type": "markdown",
   "metadata": {},
   "source": [
    "### Ternary Classification"
   ]
  },
  {
   "cell_type": "code",
   "execution_count": null,
   "metadata": {},
   "outputs": [],
   "source": [
    "ternary_review_class = ternary_embeddings_df['ternary_review_class']\n",
    "ternary_review_class.unique()"
   ]
  },
  {
   "cell_type": "code",
   "execution_count": null,
   "metadata": {},
   "outputs": [],
   "source": [
    "# logistic_regression_train_metrics, logistic_regression_test_metrics = logistic_regression_model(X_train, X_test, y_train, y_test)"
   ]
  },
  {
   "cell_type": "code",
   "execution_count": null,
   "metadata": {},
   "outputs": [],
   "source": [
    "# logistic_regression_train_metrics, logistic_regression_test_metrics"
   ]
  },
  {
   "cell_type": "markdown",
   "metadata": {},
   "source": [
    "# Naive Bayes"
   ]
  },
  {
   "cell_type": "code",
   "execution_count": null,
   "metadata": {},
   "outputs": [],
   "source": [
    "def naive_bayes_model(X_train, X_test, y_train, y_test): \n",
    "\n",
    "    technique = MultinomialNB()\n",
    "    technique.fit(X_train.toarray(), y_train)\n",
    "    y_train_predictions = technique.predict(X_train)\n",
    "    y_test_predictions = technique.predict(X_test)\n",
    "\n",
    "    train_metrics = train_eval_metric(y_train, y_train_predictions)\n",
    "    test_metrics = test_eval_metric(y_test, y_test_predictions)\n",
    "\n",
    "    return train_metrics, test_metrics\n"
   ]
  },
  {
   "cell_type": "code",
   "execution_count": null,
   "metadata": {},
   "outputs": [],
   "source": [
    "# naive_bayes_train_metrics, naive_bayes_test_metrics = naive_bayes_model(X_train, X_test, y_train, y_test)"
   ]
  },
  {
   "cell_type": "code",
   "execution_count": null,
   "metadata": {},
   "outputs": [],
   "source": [
    "# naive_bayes_train_metrics, naive_bayes_test_metrics"
   ]
  },
  {
   "cell_type": "code",
   "execution_count": null,
   "metadata": {},
   "outputs": [],
   "source": []
  },
  {
   "cell_type": "code",
   "execution_count": null,
   "metadata": {},
   "outputs": [],
   "source": []
  }
 ],
 "metadata": {
  "kernelspec": {
   "display_name": "Python 3 (ipykernel)",
   "language": "python",
   "name": "python3"
  },
  "language_info": {
   "codemirror_mode": {
    "name": "ipython",
    "version": 3
   },
   "file_extension": ".py",
   "mimetype": "text/x-python",
   "name": "python",
   "nbconvert_exporter": "python",
   "pygments_lexer": "ipython3",
   "version": "3.11.4"
  }
 },
 "nbformat": 4,
 "nbformat_minor": 4
}
